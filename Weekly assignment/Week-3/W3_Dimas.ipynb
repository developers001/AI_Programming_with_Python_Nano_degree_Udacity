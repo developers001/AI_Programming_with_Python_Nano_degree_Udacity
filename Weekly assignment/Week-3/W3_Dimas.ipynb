{
  "nbformat": 4,
  "nbformat_minor": 0,
  "metadata": {
    "colab": {
      "provenance": []
    },
    "kernelspec": {
      "name": "python3",
      "display_name": "Python 3"
    },
    "language_info": {
      "name": "python"
    }
  },
  "cells": [
    {
      "cell_type": "markdown",
      "source": [
        "# 1"
      ],
      "metadata": {
        "id": "xAJVPZfoYcjN"
      }
    },
    {
      "cell_type": "code",
      "execution_count": 1,
      "metadata": {
        "colab": {
          "base_uri": "https://localhost:8080/"
        },
        "id": "6OXH9iACWfI4",
        "outputId": "aa4ff11b-602f-428d-9695-60b8947bedaf"
      },
      "outputs": [
        {
          "output_type": "stream",
          "name": "stdout",
          "text": [
            "Sum: 15\n",
            "Max: 5\n",
            "Min: 1\n",
            "Mean: 3.0\n"
          ]
        }
      ],
      "source": [
        "def analyze_numbers(numbers):\n",
        "    if not numbers:\n",
        "        print(\"Empty list\")\n",
        "        return\n",
        "\n",
        "    total = sum(numbers)\n",
        "    maximum = max(numbers)\n",
        "    minimum = min(numbers)\n",
        "    average = total / len(numbers)\n",
        "\n",
        "    print(\"Sum:\", total)\n",
        "    print(\"Max:\", maximum)\n",
        "    print(\"Min:\", minimum)\n",
        "    print(\"Mean:\", average)\n",
        "\n",
        "\n",
        "# Example usage:\n",
        "numbers = [1, 2, 3, 4, 5]\n",
        "analyze_numbers(numbers)"
      ]
    },
    {
      "cell_type": "markdown",
      "source": [
        "# 2"
      ],
      "metadata": {
        "id": "oLKNZ9dfYd5_"
      }
    },
    {
      "cell_type": "code",
      "source": [
        "def has_common_member(list1, list2):\n",
        "    common_elements = set(list1) & set(list2)\n",
        "    return bool(common_elements)\n",
        "\n",
        "\n",
        "# Example usage:\n",
        "list1 = [\"Tom\", \"Bob\", \"Sue\", \"Rachel\"]\n",
        "list2 = [\"Bob\", \"Susan\", \"Roger\", \"Mike\"]\n",
        "print(has_common_member(list1, list2))"
      ],
      "metadata": {
        "colab": {
          "base_uri": "https://localhost:8080/"
        },
        "id": "5Qh2qt9ZWkPx",
        "outputId": "880d2a82-b598-4cfb-e61f-1c838b63182b"
      },
      "execution_count": 2,
      "outputs": [
        {
          "output_type": "stream",
          "name": "stdout",
          "text": [
            "True\n"
          ]
        }
      ]
    },
    {
      "cell_type": "markdown",
      "source": [
        "# 3"
      ],
      "metadata": {
        "id": "vUXtHfV_YfKb"
      }
    },
    {
      "cell_type": "code",
      "source": [
        "def combine_dictionaries(d1, d2):\n",
        "    combined_dict = {}\n",
        "\n",
        "    for key in d1:\n",
        "        combined_dict[key] = d1[key]\n",
        "\n",
        "    for key in d2:\n",
        "        if key in combined_dict:\n",
        "            combined_dict[key] += d2[key]\n",
        "        else:\n",
        "            combined_dict[key] = d2[key]\n",
        "\n",
        "    return combined_dict\n",
        "\n",
        "\n",
        "# Example usage:\n",
        "d1 = {'a': 100, 'b': 200, 'c': 300}\n",
        "d2 = {'a': 300, 'b': 200, 'd': 400}\n",
        "combined_dict = combine_dictionaries(d1, d2)\n",
        "print(combined_dict)"
      ],
      "metadata": {
        "colab": {
          "base_uri": "https://localhost:8080/"
        },
        "id": "uI3YEKEgWtuK",
        "outputId": "bc6f8c6c-88e5-4868-ab17-a6c97dc18be2"
      },
      "execution_count": 4,
      "outputs": [
        {
          "output_type": "stream",
          "name": "stdout",
          "text": [
            "{'a': 400, 'b': 400, 'c': 300, 'd': 400}\n"
          ]
        }
      ]
    },
    {
      "cell_type": "markdown",
      "source": [
        "# 4"
      ],
      "metadata": {
        "id": "DJMK9ljlYf-2"
      }
    },
    {
      "cell_type": "code",
      "source": [
        "def fizzbuzz():\n",
        "    for num in range(1, 101):\n",
        "        if num % 3 == 0 and num % 5 == 0:\n",
        "            print(\"FizzBuzz\")\n",
        "        elif num % 3 == 0:\n",
        "            print(\"Fizz\")\n",
        "        elif num % 5 == 0:\n",
        "            print(\"Buzz\")\n",
        "        else:\n",
        "            print(num)\n",
        "\n",
        "\n",
        "# Example usage:\n",
        "fizzbuzz()\n"
      ],
      "metadata": {
        "colab": {
          "base_uri": "https://localhost:8080/"
        },
        "id": "FmN0vraKXCxV",
        "outputId": "1f23dc61-1d08-46e7-8faf-a48876ba813d"
      },
      "execution_count": 5,
      "outputs": [
        {
          "output_type": "stream",
          "name": "stdout",
          "text": [
            "1\n",
            "2\n",
            "Fizz\n",
            "4\n",
            "Buzz\n",
            "Fizz\n",
            "7\n",
            "8\n",
            "Fizz\n",
            "Buzz\n",
            "11\n",
            "Fizz\n",
            "13\n",
            "14\n",
            "FizzBuzz\n",
            "16\n",
            "17\n",
            "Fizz\n",
            "19\n",
            "Buzz\n",
            "Fizz\n",
            "22\n",
            "23\n",
            "Fizz\n",
            "Buzz\n",
            "26\n",
            "Fizz\n",
            "28\n",
            "29\n",
            "FizzBuzz\n",
            "31\n",
            "32\n",
            "Fizz\n",
            "34\n",
            "Buzz\n",
            "Fizz\n",
            "37\n",
            "38\n",
            "Fizz\n",
            "Buzz\n",
            "41\n",
            "Fizz\n",
            "43\n",
            "44\n",
            "FizzBuzz\n",
            "46\n",
            "47\n",
            "Fizz\n",
            "49\n",
            "Buzz\n",
            "Fizz\n",
            "52\n",
            "53\n",
            "Fizz\n",
            "Buzz\n",
            "56\n",
            "Fizz\n",
            "58\n",
            "59\n",
            "FizzBuzz\n",
            "61\n",
            "62\n",
            "Fizz\n",
            "64\n",
            "Buzz\n",
            "Fizz\n",
            "67\n",
            "68\n",
            "Fizz\n",
            "Buzz\n",
            "71\n",
            "Fizz\n",
            "73\n",
            "74\n",
            "FizzBuzz\n",
            "76\n",
            "77\n",
            "Fizz\n",
            "79\n",
            "Buzz\n",
            "Fizz\n",
            "82\n",
            "83\n",
            "Fizz\n",
            "Buzz\n",
            "86\n",
            "Fizz\n",
            "88\n",
            "89\n",
            "FizzBuzz\n",
            "91\n",
            "92\n",
            "Fizz\n",
            "94\n",
            "Buzz\n",
            "Fizz\n",
            "97\n",
            "98\n",
            "Fizz\n",
            "Buzz\n"
          ]
        }
      ]
    },
    {
      "cell_type": "markdown",
      "source": [
        "# 5"
      ],
      "metadata": {
        "id": "Q4qUIC-iYg-h"
      }
    },
    {
      "cell_type": "code",
      "source": [
        "import re\n",
        "\n",
        "def validate_password(password):\n",
        "    if len(password) < 6 or len(password) > 16:\n",
        "        return False\n",
        "\n",
        "    if not re.search(r\"[a-z]\", password):\n",
        "        return False\n",
        "\n",
        "    if not re.search(r\"[A-Z]\", password):\n",
        "        return False\n",
        "\n",
        "    if not re.search(r\"\\d\", password):\n",
        "        return False\n",
        "\n",
        "    if not re.search(r\"[$#@]\", password):\n",
        "        return False\n",
        "\n",
        "    return True\n",
        "\n",
        "\n",
        "# Example usage:\n",
        "password = input(\"Enter your password: \")\n",
        "is_valid = validate_password(password)\n",
        "print(\"Password is valid:\", is_valid)"
      ],
      "metadata": {
        "colab": {
          "base_uri": "https://localhost:8080/"
        },
        "id": "E5eRd8-MXXKe",
        "outputId": "b2b8e540-7737-4e28-aad6-6c43603856d4"
      },
      "execution_count": 6,
      "outputs": [
        {
          "output_type": "stream",
          "name": "stdout",
          "text": [
            "Enter your password: dimasws\n",
            "Password is valid: False\n"
          ]
        }
      ]
    },
    {
      "cell_type": "markdown",
      "source": [
        "# 6"
      ],
      "metadata": {
        "id": "vxuDih2PYh03"
      }
    },
    {
      "cell_type": "code",
      "source": [
        "def get_unique_elements(input_list):\n",
        "    unique_list = list(set(input_list))\n",
        "    return unique_list\n",
        "\n",
        "\n",
        "# Example usage:\n",
        "sample_list = [1, 2, 3, 3, 3, 3, 4, 5]\n",
        "unique_list = get_unique_elements(sample_list)\n",
        "print(unique_list)"
      ],
      "metadata": {
        "colab": {
          "base_uri": "https://localhost:8080/"
        },
        "id": "fj28U61XXfkF",
        "outputId": "eb375e1f-bd33-4629-c003-0f2753ec73ba"
      },
      "execution_count": 7,
      "outputs": [
        {
          "output_type": "stream",
          "name": "stdout",
          "text": [
            "[1, 2, 3, 4, 5]\n"
          ]
        }
      ]
    },
    {
      "cell_type": "markdown",
      "source": [
        "# 7"
      ],
      "metadata": {
        "id": "dFaB-kD5Yi1Z"
      }
    },
    {
      "cell_type": "code",
      "source": [
        "import math\n",
        "\n",
        "def calculate_hypotenuse(height, base):\n",
        "    hypotenuse = math.sqrt(height ** 2 + base ** 2)\n",
        "    return hypotenuse\n",
        "\n",
        "\n",
        "# Example usage:\n",
        "height = 3\n",
        "base = 4\n",
        "hypotenuse = calculate_hypotenuse(height, base)\n",
        "print(\"Hypotenuse length:\", hypotenuse)"
      ],
      "metadata": {
        "colab": {
          "base_uri": "https://localhost:8080/"
        },
        "id": "C0LqiYiaX1bO",
        "outputId": "0a3f04b4-a52b-4f7f-b844-14df28d4286d"
      },
      "execution_count": 8,
      "outputs": [
        {
          "output_type": "stream",
          "name": "stdout",
          "text": [
            "Hypotenuse length: 5.0\n"
          ]
        }
      ]
    },
    {
      "cell_type": "markdown",
      "source": [
        "# 8"
      ],
      "metadata": {
        "id": "Os9333pPYjsD"
      }
    },
    {
      "cell_type": "code",
      "source": [
        "def calculate_scrabble_score(word):\n",
        "    letter_values = {\n",
        "        'A': 1, 'B': 3, 'C': 3, 'D': 2, 'E': 1, 'F': 4, 'G': 2, 'H': 4,\n",
        "        'I': 1, 'J': 8, 'K': 5, 'L': 1, 'M': 3, 'N': 1, 'O': 1, 'P': 3,\n",
        "        'Q': 10, 'R': 1, 'S': 1, 'T': 1, 'U': 1, 'V': 4, 'W': 4, 'X': 8,\n",
        "        'Y': 4, 'Z': 10\n",
        "    }\n",
        "\n",
        "    score = 0\n",
        "    for letter in word.upper():\n",
        "        score += letter_values.get(letter, 0)\n",
        "\n",
        "    return score\n",
        "\n",
        "\n",
        "# Example usage:\n",
        "word = \"Cabbage\"\n",
        "score = calculate_scrabble_score(word)\n",
        "print(\"Scrabble score for\", word, \"is\", score, \"points.\")"
      ],
      "metadata": {
        "colab": {
          "base_uri": "https://localhost:8080/"
        },
        "id": "BoAn1dGEYEJr",
        "outputId": "d1c64542-9c9c-45f5-cf31-3219a517298b"
      },
      "execution_count": 9,
      "outputs": [
        {
          "output_type": "stream",
          "name": "stdout",
          "text": [
            "Scrabble score for Cabbage is 14 points.\n"
          ]
        }
      ]
    },
    {
      "cell_type": "markdown",
      "source": [
        "# 9"
      ],
      "metadata": {
        "id": "kKa9VcPDYlS2"
      }
    },
    {
      "cell_type": "code",
      "source": [
        "def gcd(a, b):\n",
        "    if b == 0:\n",
        "        return a\n",
        "    else:\n",
        "        return gcd(b, a % b)\n",
        "\n",
        "\n",
        "# Example usage:\n",
        "num1 = 60\n",
        "num2 = 48\n",
        "result = gcd(num1, num2)\n",
        "print(\"GCD of\", num1, \"and\", num2, \"is:\", result)"
      ],
      "metadata": {
        "colab": {
          "base_uri": "https://localhost:8080/"
        },
        "id": "qmKwLyEwYQJA",
        "outputId": "bc210b99-2fb0-4e58-9615-c13f59ce8796"
      },
      "execution_count": 10,
      "outputs": [
        {
          "output_type": "stream",
          "name": "stdout",
          "text": [
            "GCD of 60 and 48 is: 12\n"
          ]
        }
      ]
    },
    {
      "cell_type": "code",
      "source": [
        "# DImas"
      ],
      "metadata": {
        "id": "btgE2b_1YY0o"
      },
      "execution_count": null,
      "outputs": []
    }
  ]
}
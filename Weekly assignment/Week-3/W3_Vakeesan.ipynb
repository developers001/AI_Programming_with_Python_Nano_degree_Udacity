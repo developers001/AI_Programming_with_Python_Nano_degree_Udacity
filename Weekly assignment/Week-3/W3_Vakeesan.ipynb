{
 "cells": [
  {
   "cell_type": "markdown",
   "id": "02757f43",
   "metadata": {},
   "source": [
    "Write a Python program/function to print the sum, largest\n",
    "number, smallest number, average of the numbers in a list.\n",
    "eg. [1,2,3,4,5]\n",
    "Sum: 15\n",
    "Max: 5\n",
    "Min: 1\n",
    "Mean: 3\n"
   ]
  },
  {
   "cell_type": "code",
   "execution_count": 9,
   "id": "bf788e79",
   "metadata": {},
   "outputs": [
    {
     "name": "stdout",
     "output_type": "stream",
     "text": [
      "Sum: 6\n",
      "Max: 3\n",
      "Min: 1\n",
      "Mean: 2.0\n"
     ]
    }
   ],
   "source": [
    "def mathEasy(a):\n",
    "    print(\"Sum: {}\\nMax: {}\\nMin: {}\\nMean: {}\".format(sum(a),max(a),min(a),sum(a)/len(a)))\n",
    "mathEasy([1,2,3])"
   ]
  },
  {
   "cell_type": "markdown",
   "id": "1999c8c0",
   "metadata": {},
   "source": [
    "Write a Python function that takes two lists and returns True if\n",
    "they have at least one common member.\n",
    "eg. [“Tom”, “Bob”, “Sue”, “Rachel”], [“Bob”, “Susan”, “Roger”,\n",
    "“Mike”]\n",
    "returns true as Bob is common.\n"
   ]
  },
  {
   "cell_type": "code",
   "execution_count": 13,
   "id": "05d1f045",
   "metadata": {},
   "outputs": [
    {
     "name": "stdout",
     "output_type": "stream",
     "text": [
      "True\n"
     ]
    }
   ],
   "source": [
    "def listComp(a,b):\n",
    "    p=False\n",
    "    for i in a:\n",
    "        if i in b:\n",
    "            p=True\n",
    "    return p\n",
    "d=listComp([\"Tom\", \"Bob\", \"Sue\", \"Rachel\"],[\"Bob\", \"Susan\", \"Roger\", \"Mike\"])\n",
    "print(d)"
   ]
  },
  {
   "cell_type": "markdown",
   "id": "4e5c677a",
   "metadata": {},
   "source": [
    "Write a Python program/function to combine two dictionary\n",
    "adding values for common keys.\n",
    "eg.\n",
    "d1 = {'a': 100, 'b': 200, 'c':300}\n",
    "d2 = {'a': 300, 'b': 200, 'd':400}\n",
    "Sample output: Counter({'a': 400, 'b': 400, 'd': 400, 'c': 300})\n"
   ]
  },
  {
   "cell_type": "code",
   "execution_count": 26,
   "id": "62fb2ed3",
   "metadata": {},
   "outputs": [
    {
     "name": "stdout",
     "output_type": "stream",
     "text": [
      "{'a': 400, 'b': 400, 'c': 300, 'd': 600}\n"
     ]
    }
   ],
   "source": [
    "def dicComb(a,b):\n",
    "    c={}\n",
    "    for i in a:\n",
    "        if i in b:\n",
    "            c[i]=a.get(i)+b.get(i)\n",
    "        else:\n",
    "            c[i]=a[i]\n",
    "    for i in b:\n",
    "        if i not in c:\n",
    "            c[i]=b[i]\n",
    "    return c\n",
    "print(dicComb({'a': 100, 'b': 200, 'c':300}, {'a': 300, 'b': 200, 'd':400}))"
   ]
  },
  {
   "cell_type": "markdown",
   "id": "1f7d932b",
   "metadata": {},
   "source": [
    "Write a Python program/function which iterates the integers\n",
    "from 1 to 100. For multiples of three print \"Fizz\" instead of the\n",
    "number and for the multiples of five print \"Buzz\". For numbers\n",
    "which are multiples of both three and five print \"FizzBuzz\".\n",
    "Sample Output :\n",
    "fizzbuzz \n",
    "1\n",
    "2\n",
    "fizz\n",
    "4\n",
    "buzz\n"
   ]
  },
  {
   "cell_type": "code",
   "execution_count": 31,
   "id": "36cf404a",
   "metadata": {},
   "outputs": [
    {
     "name": "stdout",
     "output_type": "stream",
     "text": [
      "1\n",
      "2\n",
      "Fizz\n",
      "4\n",
      "Buzz\n",
      "Fizz\n",
      "7\n",
      "8\n",
      "Fizz\n",
      "Buzz\n",
      "11\n",
      "Fizz\n",
      "13\n",
      "14\n",
      "FizzBuzz\n",
      "16\n",
      "17\n",
      "Fizz\n",
      "19\n",
      "Buzz\n",
      "Fizz\n",
      "22\n",
      "23\n",
      "Fizz\n",
      "Buzz\n",
      "26\n",
      "Fizz\n",
      "28\n",
      "29\n",
      "FizzBuzz\n",
      "31\n",
      "32\n",
      "Fizz\n",
      "34\n",
      "Buzz\n",
      "Fizz\n",
      "37\n",
      "38\n",
      "Fizz\n",
      "Buzz\n",
      "41\n",
      "Fizz\n",
      "43\n",
      "44\n",
      "FizzBuzz\n",
      "46\n",
      "47\n",
      "Fizz\n",
      "49\n",
      "Buzz\n",
      "Fizz\n",
      "52\n",
      "53\n",
      "Fizz\n",
      "Buzz\n",
      "56\n",
      "Fizz\n",
      "58\n",
      "59\n",
      "FizzBuzz\n",
      "61\n",
      "62\n",
      "Fizz\n",
      "64\n",
      "Buzz\n",
      "Fizz\n",
      "67\n",
      "68\n",
      "Fizz\n",
      "Buzz\n",
      "71\n",
      "Fizz\n",
      "73\n",
      "74\n",
      "FizzBuzz\n",
      "76\n",
      "77\n",
      "Fizz\n",
      "79\n",
      "Buzz\n",
      "Fizz\n",
      "82\n",
      "83\n",
      "Fizz\n",
      "Buzz\n",
      "86\n",
      "Fizz\n",
      "88\n",
      "89\n",
      "FizzBuzz\n",
      "91\n",
      "92\n",
      "Fizz\n",
      "94\n",
      "Buzz\n",
      "Fizz\n",
      "97\n",
      "98\n",
      "Fizz\n",
      "Buzz\n"
     ]
    }
   ],
   "source": [
    "def FizzBuzz():\n",
    "    for i in range(1,101):\n",
    "        if (i%3==0):\n",
    "            if(i%5==0):\n",
    "                print(\"FizzBuzz\")\n",
    "            else:\n",
    "                print(\"Fizz\")\n",
    "        elif(i%5==0):\n",
    "            print(\"Buzz\")\n",
    "        else:\n",
    "            print(i)\n",
    "FizzBuzz()\n",
    "    "
   ]
  },
  {
   "cell_type": "markdown",
   "id": "42f43d45",
   "metadata": {},
   "source": [
    "Write a Python program/function to check the validity of\n",
    "password input by users.\n",
    "Validation :\n",
    "• At least 1 letter between [a-z] and 1 letter between [A-Z].\n",
    "• At least 1 number between [0-9].\n",
    "• At least 1 character from [$#@].\n",
    "• Minimum length 6 characters.\n",
    "• Maximum length 16 characters.\n"
   ]
  },
  {
   "cell_type": "code",
   "execution_count": 37,
   "id": "1a795f1d",
   "metadata": {},
   "outputs": [
    {
     "name": "stdout",
     "output_type": "stream",
     "text": [
      "Not valid!\n"
     ]
    }
   ],
   "source": [
    "def checkPassword(a):\n",
    "    if (len(a)<6 or len(a)>16):\n",
    "        print(\"Not valid!\")\n",
    "        return\n",
    "    num=False\n",
    "    up=False\n",
    "    low=False\n",
    "    spl=False\n",
    "    spl_char={'$':0,'#':0,'@':0}\n",
    "    for i in a:\n",
    "        if(num and up and low and spl):\n",
    "            print(\"Valid password!\")\n",
    "            return\n",
    "        if i.isnumeric():\n",
    "            num=True\n",
    "        elif i.isalpha():\n",
    "            if i.isupper():\n",
    "                up=True\n",
    "            else:\n",
    "                low=True\n",
    "        else:\n",
    "            if i in spl_char:\n",
    "                spl=True\n",
    "    print(\"Not valid!\")\n",
    "    return\n",
    "checkPassword(\"Va!123\")"
   ]
  },
  {
   "cell_type": "markdown",
   "id": "d241f05b",
   "metadata": {},
   "source": [
    "Write a Python function that takes a list and returns a new list\n",
    "with unique elements of the first list.\n",
    "Sample List : [1,2,3,3,3,3,4,5]\n",
    "Unique List : [1, 2, 3, 4, 5]\n"
   ]
  },
  {
   "cell_type": "code",
   "execution_count": 38,
   "id": "979f39aa",
   "metadata": {
    "scrolled": true
   },
   "outputs": [
    {
     "data": {
      "text/plain": [
       "[1, 2, 3, 4, 5]"
      ]
     },
     "execution_count": 38,
     "metadata": {},
     "output_type": "execute_result"
    }
   ],
   "source": [
    "def uniqueList(a):\n",
    "    return list(set(a))\n",
    "uniqueList([1,2,3,3,3,4,4,5])"
   ]
  },
  {
   "cell_type": "markdown",
   "id": "fcf356d8",
   "metadata": {},
   "source": [
    "Write a function which calculates the length of a hypotenuse\n",
    "of a right angle triangle given height and base.\n",
    "Hint: Pythagorean theorem"
   ]
  },
  {
   "cell_type": "code",
   "execution_count": 40,
   "id": "e260ebca",
   "metadata": {},
   "outputs": [
    {
     "data": {
      "text/plain": [
       "5.0"
      ]
     },
     "execution_count": 40,
     "metadata": {},
     "output_type": "execute_result"
    }
   ],
   "source": [
    "def hypo(h,b):\n",
    "    return (h**2+b**2)**0.5\n",
    "hypo(3,4)\n",
    "    "
   ]
  },
  {
   "cell_type": "markdown",
   "id": "9199cb4c",
   "metadata": {},
   "source": [
    "Scrabble score:\n",
    "Given a word, compute the Scrabble score for that word\n",
    "where the values are as follows\n",
    "Letter Value\n",
    "A, E, I, O, U, L, N, R, S, T 1\n",
    "D, G 2\n",
    "B, C, M, P 3\n",
    "F, H, V, W, Y 4\n",
    "K 5\n",
    "J, X 8\n",
    "Q, Z 10\n",
    "eg. “Cabbage” is worth 14 points\n",
    "\n",
    "• 3 points for C\n",
    "• 1 point for A, twice\n",
    "• 3 points for B, twice\n",
    "• 2 points for G\n",
    "• 1 point for E\n"
   ]
  },
  {
   "cell_type": "code",
   "execution_count": 42,
   "id": "5b5e215a",
   "metadata": {},
   "outputs": [
    {
     "data": {
      "text/plain": [
       "14"
      ]
     },
     "execution_count": 42,
     "metadata": {},
     "output_type": "execute_result"
    }
   ],
   "source": [
    "def scrabbleScore(a):\n",
    "    point1={'A':0, 'E':0, 'I':0, 'O':0, 'U':0, 'L':0, 'N':0, 'R':0, 'S':0, 'T':0}\n",
    "    point2={'D':0, 'G':0}\n",
    "    point3={'B':0, 'C':0, 'M':0, 'P':0}\n",
    "    point4={'F':0, 'H':0, 'V':0, 'W':0, 'Y':0}\n",
    "    point5={'K':0}\n",
    "    point8={'J':0,'X':0}\n",
    "    point10={'Q':0,'Z':0}\n",
    "    a_up=a.upper()\n",
    "    tot=0\n",
    "    for i in a_up:\n",
    "        if i in point1:\n",
    "            tot+=1\n",
    "        elif i in point2:\n",
    "            tot+=2\n",
    "        elif i in point3:\n",
    "            tot+=3\n",
    "        elif i in point4:\n",
    "            tot+=4\n",
    "        elif i in point5:\n",
    "            tot+=5\n",
    "        elif i in point8:\n",
    "            tot+=8\n",
    "        elif i in point10:\n",
    "            tot+=10\n",
    "    return tot\n",
    "scrabbleScore(\"Cabbage\")"
   ]
  },
  {
   "cell_type": "markdown",
   "id": "748bcb13",
   "metadata": {},
   "source": [
    "Write a Python program to find the greatest common\n",
    "divisor (gcd) of two integers.\n",
    "Hint: this is a recursive function"
   ]
  },
  {
   "cell_type": "code",
   "execution_count": 48,
   "id": "e7576fd6",
   "metadata": {},
   "outputs": [
    {
     "name": "stdout",
     "output_type": "stream",
     "text": [
      "4\n"
     ]
    }
   ],
   "source": [
    "def gcd(a,b):\n",
    "    if b==0:\n",
    "        return a\n",
    "    else:\n",
    "        return gcd(b,a%b)\n",
    "print(gcd(12,4))\n",
    "    "
   ]
  },
  {
   "cell_type": "code",
   "execution_count": null,
   "id": "48f57db0",
   "metadata": {},
   "outputs": [],
   "source": []
  }
 ],
 "metadata": {
  "kernelspec": {
   "display_name": "Python 3 (ipykernel)",
   "language": "python",
   "name": "python3"
  },
  "language_info": {
   "codemirror_mode": {
    "name": "ipython",
    "version": 3
   },
   "file_extension": ".py",
   "mimetype": "text/x-python",
   "name": "python",
   "nbconvert_exporter": "python",
   "pygments_lexer": "ipython3",
   "version": "3.10.9"
  }
 },
 "nbformat": 4,
 "nbformat_minor": 5
}

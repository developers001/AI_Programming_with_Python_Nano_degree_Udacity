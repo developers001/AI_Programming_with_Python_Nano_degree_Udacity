{
 "cells": [
  {
   "cell_type": "markdown",
   "id": "5fc3693a",
   "metadata": {},
   "source": [
    "## Week 3"
   ]
  },
  {
   "cell_type": "markdown",
   "id": "86f39de0",
   "metadata": {},
   "source": [
    "### 1) Write a Python program/function to print the sum, largest number, smallest number, average of the numbers in a list.eg. [1,2,3,4,5]\n",
    "\n",
    "Sum: 15 \n",
    "\n",
    "Max: 5 \n",
    "\n",
    "Min: 1 \n",
    "\n",
    "Mean: 3"
   ]
  },
  {
   "cell_type": "code",
   "execution_count": 13,
   "id": "2114516b",
   "metadata": {},
   "outputs": [],
   "source": [
    "def print_list_info(input_list):\n",
    "    max_num = max(input_list)\n",
    "    min_num = min(input_list)\n",
    "    sum_total = sum(input_list)\n",
    "    mean = sum_total / len(input_list)\n",
    "    print('''\n",
    "        Sum: {}\n",
    "        Max: {}\n",
    "        Min: {}\n",
    "        Mean: {:.2f}\n",
    "    '''.format(sum_total,max_num,min_num,mean))\n",
    "    "
   ]
  },
  {
   "cell_type": "code",
   "execution_count": 14,
   "id": "1037ef08",
   "metadata": {},
   "outputs": [
    {
     "name": "stdout",
     "output_type": "stream",
     "text": [
      "\n",
      "        Sum: 15\n",
      "        Max: 5\n",
      "        Min: 1\n",
      "        Mean: 3.00\n",
      "    \n",
      "\n",
      "        Sum: 30\n",
      "        Max: 5\n",
      "        Min: 1\n",
      "        Mean: 3.00\n",
      "    \n"
     ]
    }
   ],
   "source": [
    "#Test\n",
    "print_list_info([1,2,3,4,5])\n",
    "print_list_info([1,2,3,4,5,1,2,3,4,5])"
   ]
  },
  {
   "cell_type": "markdown",
   "id": "9564426e",
   "metadata": {},
   "source": [
    "### 2) Write a Python function that takes two lists and returns True if they have at least one common member.\n",
    "\n",
    "eg. [“Tom”, “Bob”, “Sue”, “Rachel”],  [“Bob”, “Susan”, “Roger”, “Mike”]returns true as Bob is common."
   ]
  },
  {
   "cell_type": "code",
   "execution_count": 17,
   "id": "9d44b45d",
   "metadata": {},
   "outputs": [],
   "source": [
    "def have_common_memeber(input_list_1, input_list_2):\n",
    "    for item in input_list_1:\n",
    "        if item in input_list_2:\n",
    "            return True\n",
    "    \n",
    "    return False"
   ]
  },
  {
   "cell_type": "code",
   "execution_count": 21,
   "id": "3e26e536",
   "metadata": {},
   "outputs": [
    {
     "data": {
      "text/plain": [
       "True"
      ]
     },
     "execution_count": 21,
     "metadata": {},
     "output_type": "execute_result"
    }
   ],
   "source": [
    "have_common_memeber(['Tom', 'Bob', 'Sue', 'Rachel'],['Bob', 'Susan', 'Roger', 'Mike'])"
   ]
  },
  {
   "cell_type": "code",
   "execution_count": 22,
   "id": "71c2ff17",
   "metadata": {},
   "outputs": [
    {
     "data": {
      "text/plain": [
       "False"
      ]
     },
     "execution_count": 22,
     "metadata": {},
     "output_type": "execute_result"
    }
   ],
   "source": [
    "have_common_memeber(['Tom', 'Sue', 'Rachel'],['Bob', 'Susan', 'Roger', 'Mike'])"
   ]
  },
  {
   "cell_type": "markdown",
   "id": "8473dbda",
   "metadata": {},
   "source": [
    "#### 3) Write a Python program/function to combine two dictionary adding values for common keys.\n",
    "\n",
    "eg.\n",
    "\n",
    "d1 = {'a': 100, 'b': 200, 'c':300}\n",
    "\n",
    "d2 = {'a': 300, 'b': 200, 'd':400}\n",
    "\n",
    "Sample output: Counter({'a': 400, 'b': 400, 'd': 400, 'c': 300})\n"
   ]
  },
  {
   "cell_type": "code",
   "execution_count": 23,
   "id": "7636130e",
   "metadata": {},
   "outputs": [],
   "source": [
    "def combine_dictionary(dict_1, dict_2):\n",
    "    result = dict_1\n",
    "    for key in dict_2:\n",
    "        if key in result:\n",
    "            result[key] += dict_2[key]\n",
    "        else:\n",
    "            result[key] = dict_2[key]\n",
    "    return result"
   ]
  },
  {
   "cell_type": "code",
   "execution_count": 24,
   "id": "1e167eb8",
   "metadata": {},
   "outputs": [
    {
     "data": {
      "text/plain": [
       "{'a': 400, 'b': 400, 'c': 300, 'd': 400}"
      ]
     },
     "execution_count": 24,
     "metadata": {},
     "output_type": "execute_result"
    }
   ],
   "source": [
    "d1 = {'a': 100, 'b': 200, 'c':300}\n",
    "d2 = {'a': 300, 'b': 200, 'd':400}\n",
    "combine_dictionary(d1,d2)"
   ]
  },
  {
   "cell_type": "markdown",
   "id": "f6508999",
   "metadata": {},
   "source": [
    "#### 4) Write a Python program/function which iterates the integers from 1 to 100. For multiples of three print \"Fizz\" instead of the number and for the multiples of five print \"Buzz\". For numbers which are multiples of both three and five print \"FizzBuzz\".\n",
    "\n",
    "Sample Output :\n",
    "fizzbuzz\n",
    "\n",
    "1\n",
    "\n",
    "2\n",
    "\n",
    "fizz\n",
    "\n",
    "4\n",
    "\n",
    "buzz\n"
   ]
  },
  {
   "cell_type": "code",
   "execution_count": 29,
   "id": "688106be",
   "metadata": {},
   "outputs": [],
   "source": [
    "def fizzbuzz():\n",
    "    for i in range(1,101):\n",
    "        if i % 5 == 0 and i % 3 == 0:\n",
    "            print('FizzBuzz')\n",
    "        elif i % 5 == 0:\n",
    "            print('Buzz')\n",
    "        elif i % 3 == 0:\n",
    "            print('Fizz')\n",
    "        else:\n",
    "            print(i)\n"
   ]
  },
  {
   "cell_type": "code",
   "execution_count": 30,
   "id": "8661f845",
   "metadata": {},
   "outputs": [
    {
     "name": "stdout",
     "output_type": "stream",
     "text": [
      "1\n",
      "2\n",
      "Fizz\n",
      "4\n",
      "Buzz\n",
      "Fizz\n",
      "7\n",
      "8\n",
      "Fizz\n",
      "Buzz\n",
      "11\n",
      "Fizz\n",
      "13\n",
      "14\n",
      "FizzBuzz\n",
      "16\n",
      "17\n",
      "Fizz\n",
      "19\n",
      "Buzz\n",
      "Fizz\n",
      "22\n",
      "23\n",
      "Fizz\n",
      "Buzz\n",
      "26\n",
      "Fizz\n",
      "28\n",
      "29\n",
      "FizzBuzz\n",
      "31\n",
      "32\n",
      "Fizz\n",
      "34\n",
      "Buzz\n",
      "Fizz\n",
      "37\n",
      "38\n",
      "Fizz\n",
      "Buzz\n",
      "41\n",
      "Fizz\n",
      "43\n",
      "44\n",
      "FizzBuzz\n",
      "46\n",
      "47\n",
      "Fizz\n",
      "49\n",
      "Buzz\n",
      "Fizz\n",
      "52\n",
      "53\n",
      "Fizz\n",
      "Buzz\n",
      "56\n",
      "Fizz\n",
      "58\n",
      "59\n",
      "FizzBuzz\n",
      "61\n",
      "62\n",
      "Fizz\n",
      "64\n",
      "Buzz\n",
      "Fizz\n",
      "67\n",
      "68\n",
      "Fizz\n",
      "Buzz\n",
      "71\n",
      "Fizz\n",
      "73\n",
      "74\n",
      "FizzBuzz\n",
      "76\n",
      "77\n",
      "Fizz\n",
      "79\n",
      "Buzz\n",
      "Fizz\n",
      "82\n",
      "83\n",
      "Fizz\n",
      "Buzz\n",
      "86\n",
      "Fizz\n",
      "88\n",
      "89\n",
      "FizzBuzz\n",
      "91\n",
      "92\n",
      "Fizz\n",
      "94\n",
      "Buzz\n",
      "Fizz\n",
      "97\n",
      "98\n",
      "Fizz\n",
      "Buzz\n"
     ]
    }
   ],
   "source": [
    "fizzbuzz()"
   ]
  },
  {
   "cell_type": "markdown",
   "id": "84e9461d",
   "metadata": {},
   "source": [
    "#### 5) Write a Python program/function to check the validity of password input by users.\n",
    "Validation :•\n",
    "\n",
    "- At least 1 letter between [a-z] and 1 letter between [A-Z]\n",
    "- At least 1 number between [0-9]\n",
    "- At least 1 character from [$#@]\n",
    "- Minimum length 6 characters.\n",
    "- Maximum length 16 characters"
   ]
  },
  {
   "cell_type": "code",
   "execution_count": 31,
   "id": "ded84077",
   "metadata": {},
   "outputs": [],
   "source": [
    "def validate_password(input_password):\n",
    "    characters = 'abcdefghijklmnopqrstuvwxyz'\n",
    "    upper_character = characters.upper()\n",
    "    number = '1234567890'\n",
    "    symbol = '$#@'\n",
    "    min_length = 6\n",
    "    max_length = 16\n",
    "    \n",
    "   \n",
    "        \n",
    "    has_lower = False\n",
    "    has_upper = False\n",
    "    has_number = False\n",
    "    has_symbol = False\n",
    "    has_correct_length = False\n",
    "    \n",
    "    password_length = len(input_password)\n",
    "    if password_length >= min_length and password_length <= max_length:\n",
    "        has_correct_length = True\n",
    "    \n",
    "    \n",
    "    for ch in input_password:\n",
    "        if ch in characters:\n",
    "            has_lower = True\n",
    "        \n",
    "        if ch in upper_character:\n",
    "            has_upper = True\n",
    "        \n",
    "        if ch in number:\n",
    "            has_number = True\n",
    "        \n",
    "        if ch in symbol:\n",
    "            has_symbol = True\n",
    "    \n",
    "    if not has_lower:\n",
    "        print('Password must has at least 1 letter between [a-z]')\n",
    "    if not has_upper:\n",
    "        print('Password must has at least 1 letter between [A-Z]')\n",
    "    if not has_number:\n",
    "        print('Password must has at least 1 number between [0-9]')\n",
    "    if not has_symbol:\n",
    "        print('Password must has at least 1 character from [$#@]')\n",
    "    if not has_correct_length:\n",
    "        print('Password must be within 6 and 16 characters long')\n",
    "        \n",
    "        \n",
    "    return has_lower and has_upper and has_number and has_symbol and has_correct_length"
   ]
  },
  {
   "cell_type": "code",
   "execution_count": 32,
   "id": "ef3dcdb5",
   "metadata": {},
   "outputs": [
    {
     "name": "stdout",
     "output_type": "stream",
     "text": [
      "Password must has at least 1 letter between [a-z]\n",
      "Password must has at least 1 letter between [A-Z]\n",
      "Password must has at least 1 character from [$#@]\n"
     ]
    },
    {
     "data": {
      "text/plain": [
       "False"
      ]
     },
     "execution_count": 32,
     "metadata": {},
     "output_type": "execute_result"
    }
   ],
   "source": [
    "validate_password(\"121341241\")"
   ]
  },
  {
   "cell_type": "code",
   "execution_count": 33,
   "id": "65056c72",
   "metadata": {},
   "outputs": [
    {
     "data": {
      "text/plain": [
       "True"
      ]
     },
     "execution_count": 33,
     "metadata": {},
     "output_type": "execute_result"
    }
   ],
   "source": [
    "validate_password(\"Avb$121341241\")"
   ]
  },
  {
   "cell_type": "code",
   "execution_count": 34,
   "id": "7e8465b6",
   "metadata": {},
   "outputs": [
    {
     "name": "stdout",
     "output_type": "stream",
     "text": [
      "Password must be within 6 and 16 characters long\n"
     ]
    },
    {
     "data": {
      "text/plain": [
       "False"
      ]
     },
     "execution_count": 34,
     "metadata": {},
     "output_type": "execute_result"
    }
   ],
   "source": [
    "validate_password(\"Ab$11\")"
   ]
  },
  {
   "cell_type": "markdown",
   "id": "10aa9ba0",
   "metadata": {},
   "source": [
    "#### 6) Write a Python function that takes a list and returns a new list with unique elements of the first list.\n",
    "\n",
    "Sample List : [1,2,3,3,3,3,4,5]\n",
    "\n",
    "Unique List : [1, 2, 3, 4, 5]"
   ]
  },
  {
   "cell_type": "code",
   "execution_count": 35,
   "id": "281ff352",
   "metadata": {},
   "outputs": [],
   "source": [
    "def unique_list(input_list):\n",
    "    return list(set(input_list))"
   ]
  },
  {
   "cell_type": "code",
   "execution_count": 36,
   "id": "6cd6d89b",
   "metadata": {},
   "outputs": [
    {
     "data": {
      "text/plain": [
       "[1, 2, 3, 4, 5]"
      ]
     },
     "execution_count": 36,
     "metadata": {},
     "output_type": "execute_result"
    }
   ],
   "source": [
    "unique_list([1,2,3,3,3,3,4,5])"
   ]
  },
  {
   "cell_type": "markdown",
   "id": "faa1152a",
   "metadata": {},
   "source": [
    "#### 7) Write a function which calculates the length of a hypotenuse of a right angle triangle given height and base.\n",
    "\n",
    "Hint: Pythagorean theorem"
   ]
  },
  {
   "cell_type": "code",
   "execution_count": 38,
   "id": "ae52490f",
   "metadata": {},
   "outputs": [],
   "source": [
    "def calc_hypotenuse(base,height):\n",
    "    return (base ** 2 + height ** 2)**0.5"
   ]
  },
  {
   "cell_type": "code",
   "execution_count": 39,
   "id": "3c041ced",
   "metadata": {},
   "outputs": [
    {
     "data": {
      "text/plain": [
       "5.0"
      ]
     },
     "execution_count": 39,
     "metadata": {},
     "output_type": "execute_result"
    }
   ],
   "source": [
    "calc_hypotenuse(3,4)"
   ]
  },
  {
   "cell_type": "markdown",
   "id": "72e2dd45",
   "metadata": {},
   "source": [
    "#### 8) Scrabble score:Given a word, compute the Scrabble score for that word where the values are as follows\n",
    "Letter                          Value\n",
    "\n",
    "A, E, I, O, U, L, N, R, S, T      1\n",
    "\n",
    "D, G                              2\n",
    "\n",
    "B, C, M, P                        3\n",
    "\n",
    "F,   H ,   V,   W,   Y            4\n",
    "\n",
    "K                                 5\n",
    "\n",
    "J, X                              8\n",
    "\n",
    "Q, Z                              10\n",
    "\n",
    "eg. “Cabbage” is worth 14 points"
   ]
  },
  {
   "cell_type": "code",
   "execution_count": 41,
   "id": "0aea7c62",
   "metadata": {},
   "outputs": [],
   "source": [
    "def calc_scrabble_score(input_text):\n",
    "    score_dict = {\n",
    "        'A': 1,\n",
    "        'B': 3,\n",
    "        'C': 3,\n",
    "        'D': 2,\n",
    "        'E': 1,\n",
    "        'F': 4,\n",
    "        'G': 2,\n",
    "        'H': 4,\n",
    "        'I': 1,\n",
    "        'J': 8,\n",
    "        'K': 5,\n",
    "        'L': 1,\n",
    "        'M': 3,\n",
    "        'N': 1,\n",
    "        'O': 1,\n",
    "        'P': 3,\n",
    "        'Q': 10,\n",
    "        'R': 1,\n",
    "        'S': 1,\n",
    "        'T': 1,\n",
    "        'U': 1,\n",
    "        'V': 4,\n",
    "        'W': 4,\n",
    "        'X': 8,\n",
    "        'Y': 4,\n",
    "        'Z': 10,\n",
    "        }\n",
    "    score = 0\n",
    "    for ch in input_text.upper():\n",
    "        score += score_dict[ch]\n",
    "    return score\n"
   ]
  },
  {
   "cell_type": "code",
   "execution_count": 42,
   "id": "3ae33f3e",
   "metadata": {},
   "outputs": [
    {
     "data": {
      "text/plain": [
       "14"
      ]
     },
     "execution_count": 42,
     "metadata": {},
     "output_type": "execute_result"
    }
   ],
   "source": [
    "calc_scrabble_score('Cabbage')"
   ]
  },
  {
   "cell_type": "markdown",
   "id": "4ffcfcaf",
   "metadata": {},
   "source": [
    "#### 9) Write a Python program to find thegreatest common divisor(gcd) of two integers.\n",
    "\n",
    "Hint: this is a recursive function"
   ]
  },
  {
   "cell_type": "code",
   "execution_count": 46,
   "id": "1b074129",
   "metadata": {},
   "outputs": [],
   "source": [
    "def find_gcd(number_1, number_2):\n",
    "    if(number_2 == 0):\n",
    "        return abs(number_1)\n",
    "    else:\n",
    "        return find_gcd(number_2, number_1 % number_2)"
   ]
  },
  {
   "cell_type": "code",
   "execution_count": 47,
   "id": "1cf3a75d",
   "metadata": {},
   "outputs": [
    {
     "data": {
      "text/plain": [
       "100"
      ]
     },
     "execution_count": 47,
     "metadata": {},
     "output_type": "execute_result"
    }
   ],
   "source": [
    "find_gcd(100,200)"
   ]
  },
  {
   "cell_type": "code",
   "execution_count": null,
   "id": "231aa9b1",
   "metadata": {},
   "outputs": [],
   "source": []
  }
 ],
 "metadata": {
  "kernelspec": {
   "display_name": "Python 3 (ipykernel)",
   "language": "python",
   "name": "python3"
  },
  "language_info": {
   "codemirror_mode": {
    "name": "ipython",
    "version": 3
   },
   "file_extension": ".py",
   "mimetype": "text/x-python",
   "name": "python",
   "nbconvert_exporter": "python",
   "pygments_lexer": "ipython3",
   "version": "3.11.3"
  }
 },
 "nbformat": 4,
 "nbformat_minor": 5
}

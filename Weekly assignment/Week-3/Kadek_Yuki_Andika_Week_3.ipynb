{
  "nbformat": 4,
  "nbformat_minor": 0,
  "metadata": {
    "colab": {
      "provenance": []
    },
    "kernelspec": {
      "name": "python3",
      "display_name": "Python 3"
    },
    "language_info": {
      "name": "python"
    }
  },
  "cells": [
    {
      "cell_type": "markdown",
      "source": [
        "# 1"
      ],
      "metadata": {
        "id": "tSE_N30G-YOx"
      }
    },
    {
      "cell_type": "code",
      "execution_count": null,
      "metadata": {
        "colab": {
          "base_uri": "https://localhost:8080/"
        },
        "id": "pYnCQC3q9yCp",
        "outputId": "a9094060-848e-44f5-9754-d7503982fd33"
      },
      "outputs": [
        {
          "output_type": "stream",
          "name": "stdout",
          "text": [
            "15\n",
            "5\n",
            "1\n",
            "3.0\n"
          ]
        }
      ],
      "source": [
        "def stat(a):\n",
        "  print(sum(a))\n",
        "  print(max(a))\n",
        "  print(min(a))\n",
        "  print(sum(a)/len(a))\n",
        "\n",
        "stat([1,2,3,4,5])"
      ]
    },
    {
      "cell_type": "markdown",
      "source": [
        "# 2"
      ],
      "metadata": {
        "id": "J7qimiNN-xl0"
      }
    },
    {
      "cell_type": "code",
      "source": [
        "def common(a,b):\n",
        "  for item1 in a:\n",
        "    for item2 in b:\n",
        "      if item1==item2:\n",
        "        return True\n",
        "  return False\n",
        "\n",
        "common([\"Tom\", \"Bob\", \"Sue\", \"Rachel\"],  [\"Bob\", \"Susan\", \"Roger\", \"Mike\"])"
      ],
      "metadata": {
        "colab": {
          "base_uri": "https://localhost:8080/"
        },
        "id": "peMyjRDz-D-i",
        "outputId": "9d66625b-8983-42a6-d0c6-edd0453c9d0d"
      },
      "execution_count": null,
      "outputs": [
        {
          "output_type": "execute_result",
          "data": {
            "text/plain": [
              "True"
            ]
          },
          "metadata": {},
          "execution_count": 11
        }
      ]
    },
    {
      "cell_type": "code",
      "source": [
        "common([\"yuki\"],[\"raju\"])"
      ],
      "metadata": {
        "colab": {
          "base_uri": "https://localhost:8080/"
        },
        "id": "tYKJ54yM-Hl4",
        "outputId": "b21fe25a-69dc-411a-c045-1e2cbd0ab768"
      },
      "execution_count": null,
      "outputs": [
        {
          "output_type": "execute_result",
          "data": {
            "text/plain": [
              "False"
            ]
          },
          "metadata": {},
          "execution_count": 12
        }
      ]
    },
    {
      "cell_type": "markdown",
      "source": [
        "# 3"
      ],
      "metadata": {
        "id": "OU21vjISBE3j"
      }
    },
    {
      "cell_type": "code",
      "source": [
        "def count(dict1,dict2):\n",
        "  count={}\n",
        "  for element in set((d1.keys())).union(set((d2.keys()))):\n",
        "    count[element]=dict1.get(element,0)+dict2.get(element,0)\n",
        "  return count\n",
        "\n",
        "count({'a': 100, 'b': 200, 'c':300},{'a': 300, 'b': 200, 'd':400})"
      ],
      "metadata": {
        "colab": {
          "base_uri": "https://localhost:8080/"
        },
        "id": "D21dWDgSAk00",
        "outputId": "67be602f-3e83-458a-ef5b-da3649e99de5"
      },
      "execution_count": null,
      "outputs": [
        {
          "output_type": "execute_result",
          "data": {
            "text/plain": [
              "{'b': 400, 'c': 300, 'd': 400, 'a': 400}"
            ]
          },
          "metadata": {},
          "execution_count": 40
        }
      ]
    },
    {
      "cell_type": "markdown",
      "source": [
        "# 4"
      ],
      "metadata": {
        "id": "KGW7KjgMFWZJ"
      }
    },
    {
      "cell_type": "code",
      "source": [
        "for i in range(1,101):\n",
        "  if i%3==0 and i%5==0:\n",
        "    print(\"FizzBuzz\")\n",
        "  elif i%3==0:\n",
        "    print(\"Fizz\")\n",
        "  elif i%5==0:\n",
        "    print(\"Buzz\")\n",
        "  else:\n",
        "    print(i)"
      ],
      "metadata": {
        "colab": {
          "base_uri": "https://localhost:8080/"
        },
        "id": "ezGRkV8lFW97",
        "outputId": "377995bd-fc2a-4e67-dbda-f47d852dbb78"
      },
      "execution_count": null,
      "outputs": [
        {
          "output_type": "stream",
          "name": "stdout",
          "text": [
            "1\n",
            "2\n",
            "Fizz\n",
            "4\n",
            "Buzz\n",
            "Fizz\n",
            "7\n",
            "8\n",
            "Fizz\n",
            "Buzz\n",
            "11\n",
            "Fizz\n",
            "13\n",
            "14\n",
            "FizzBuzz\n",
            "16\n",
            "17\n",
            "Fizz\n",
            "19\n",
            "Buzz\n",
            "Fizz\n",
            "22\n",
            "23\n",
            "Fizz\n",
            "Buzz\n",
            "26\n",
            "Fizz\n",
            "28\n",
            "29\n",
            "FizzBuzz\n",
            "31\n",
            "32\n",
            "Fizz\n",
            "34\n",
            "Buzz\n",
            "Fizz\n",
            "37\n",
            "38\n",
            "Fizz\n",
            "Buzz\n",
            "41\n",
            "Fizz\n",
            "43\n",
            "44\n",
            "FizzBuzz\n",
            "46\n",
            "47\n",
            "Fizz\n",
            "49\n",
            "Buzz\n",
            "Fizz\n",
            "52\n",
            "53\n",
            "Fizz\n",
            "Buzz\n",
            "56\n",
            "Fizz\n",
            "58\n",
            "59\n",
            "FizzBuzz\n",
            "61\n",
            "62\n",
            "Fizz\n",
            "64\n",
            "Buzz\n",
            "Fizz\n",
            "67\n",
            "68\n",
            "Fizz\n",
            "Buzz\n",
            "71\n",
            "Fizz\n",
            "73\n",
            "74\n",
            "FizzBuzz\n",
            "76\n",
            "77\n",
            "Fizz\n",
            "79\n",
            "Buzz\n",
            "Fizz\n",
            "82\n",
            "83\n",
            "Fizz\n",
            "Buzz\n",
            "86\n",
            "Fizz\n",
            "88\n",
            "89\n",
            "FizzBuzz\n",
            "91\n",
            "92\n",
            "Fizz\n",
            "94\n",
            "Buzz\n",
            "Fizz\n",
            "97\n",
            "98\n",
            "Fizz\n",
            "Buzz\n"
          ]
        }
      ]
    },
    {
      "cell_type": "markdown",
      "source": [
        "# 5"
      ],
      "metadata": {
        "id": "_CoyMH8WHeY8"
      }
    },
    {
      "cell_type": "code",
      "source": [
        "import re\n",
        "\n",
        "def validate_password(password):\n",
        "    # Check if the password meets all the criteria\n",
        "    if len(password) < 6 or len(password) > 16:\n",
        "        return False\n",
        "    if not re.search(r\"[a-z]\", password):\n",
        "        return False\n",
        "    if not re.search(r\"[A-Z]\", password):\n",
        "        return False\n",
        "    if not re.search(r\"\\d\", password):\n",
        "        return False\n",
        "    if not re.search(r\"[$#@]\", password):\n",
        "        return False\n",
        "    return True"
      ],
      "metadata": {
        "id": "11Z57DVsHOsp"
      },
      "execution_count": null,
      "outputs": []
    },
    {
      "cell_type": "code",
      "source": [
        "validate_password(\"@YUKI001212a\")"
      ],
      "metadata": {
        "colab": {
          "base_uri": "https://localhost:8080/"
        },
        "id": "kgY7iW2uQXoN",
        "outputId": "1f768292-8b5b-464c-d21e-ca8044868cd0"
      },
      "execution_count": 45,
      "outputs": [
        {
          "output_type": "execute_result",
          "data": {
            "text/plain": [
              "True"
            ]
          },
          "metadata": {},
          "execution_count": 45
        }
      ]
    },
    {
      "cell_type": "code",
      "source": [
        "validate_password(\"YUKI001212a\")"
      ],
      "metadata": {
        "colab": {
          "base_uri": "https://localhost:8080/"
        },
        "id": "d-De5BzlQiSS",
        "outputId": "d6772971-2fb7-42cd-957c-7e07f6d81b25"
      },
      "execution_count": 46,
      "outputs": [
        {
          "output_type": "execute_result",
          "data": {
            "text/plain": [
              "False"
            ]
          },
          "metadata": {},
          "execution_count": 46
        }
      ]
    },
    {
      "cell_type": "markdown",
      "source": [
        "# 6"
      ],
      "metadata": {
        "id": "3VR9RyP1NELM"
      }
    },
    {
      "cell_type": "code",
      "source": [
        "def unique_element(a):\n",
        "  return list(set(a))\n"
      ],
      "metadata": {
        "id": "3c6BHvuwNE2y"
      },
      "execution_count": 53,
      "outputs": []
    },
    {
      "cell_type": "code",
      "source": [
        "unique_element([1,2,3,3,3,3,4,5])"
      ],
      "metadata": {
        "colab": {
          "base_uri": "https://localhost:8080/"
        },
        "id": "2FyV163SQw0w",
        "outputId": "5b36d3fc-0196-47fe-9c45-5a73c5f64da7"
      },
      "execution_count": 54,
      "outputs": [
        {
          "output_type": "execute_result",
          "data": {
            "text/plain": [
              "[1, 2, 3, 4, 5]"
            ]
          },
          "metadata": {},
          "execution_count": 54
        }
      ]
    },
    {
      "cell_type": "markdown",
      "source": [
        "# 7"
      ],
      "metadata": {
        "id": "x2PtqLbPRbgw"
      }
    },
    {
      "cell_type": "code",
      "source": [
        "def hypo(base,height):\n",
        "  return (base**2+height**2)**(1/2)"
      ],
      "metadata": {
        "id": "Q6ydMdftQzNR"
      },
      "execution_count": 57,
      "outputs": []
    },
    {
      "cell_type": "code",
      "source": [
        "hypo(3,4)"
      ],
      "metadata": {
        "colab": {
          "base_uri": "https://localhost:8080/"
        },
        "id": "xJSCP9SPSVFo",
        "outputId": "9901cb09-94d6-44fe-9c5b-56ab40cf130a"
      },
      "execution_count": 58,
      "outputs": [
        {
          "output_type": "execute_result",
          "data": {
            "text/plain": [
              "5.0"
            ]
          },
          "metadata": {},
          "execution_count": 58
        }
      ]
    },
    {
      "cell_type": "markdown",
      "source": [
        "# 8"
      ],
      "metadata": {
        "id": "dkFT9hI3SdG8"
      }
    },
    {
      "cell_type": "code",
      "source": [
        "def calculate_scrabble_score(word):\n",
        "    letter_values = {\n",
        "        'A': 1, 'E': 1, 'I': 1, 'O': 1, 'U': 1, 'L': 1, 'N': 1, 'R': 1, 'S': 1, 'T': 1,\n",
        "        'D': 2, 'G': 2,\n",
        "        'B': 3, 'C': 3, 'M': 3, 'P': 3,\n",
        "        'F': 4, 'H': 4, 'V': 4, 'W': 4, 'Y': 4,\n",
        "        'K': 5,\n",
        "        'J': 8, 'X': 8,\n",
        "        'Q': 10, 'Z': 10\n",
        "    }\n",
        "\n",
        "    score = 0\n",
        "    for letter in word.upper():\n",
        "        score += letter_values.get(letter, 0)\n",
        "\n",
        "    return score"
      ],
      "metadata": {
        "id": "f3-b-DHnSWr1"
      },
      "execution_count": 59,
      "outputs": []
    },
    {
      "cell_type": "code",
      "source": [
        "calculate_scrabble_score(\"Cabbage\")"
      ],
      "metadata": {
        "colab": {
          "base_uri": "https://localhost:8080/"
        },
        "id": "8rei6L4xTNKV",
        "outputId": "18e4457e-7b9a-4ebc-9a01-75249ca2d669"
      },
      "execution_count": 60,
      "outputs": [
        {
          "output_type": "execute_result",
          "data": {
            "text/plain": [
              "14"
            ]
          },
          "metadata": {},
          "execution_count": 60
        }
      ]
    },
    {
      "cell_type": "markdown",
      "source": [
        "# 9"
      ],
      "metadata": {
        "id": "AAFMzsefU6nJ"
      }
    },
    {
      "cell_type": "code",
      "source": [
        "def gcd(a, b):\n",
        "    if b == 0:\n",
        "        return a\n",
        "    else:\n",
        "        return gcd(b, a % b)\n"
      ],
      "metadata": {
        "id": "feM70NVGU3yj"
      },
      "execution_count": 61,
      "outputs": []
    },
    {
      "cell_type": "code",
      "source": [
        "gcd(64,24)"
      ],
      "metadata": {
        "colab": {
          "base_uri": "https://localhost:8080/"
        },
        "id": "Q75y_lLGg0px",
        "outputId": "a00567c3-ccd5-4a67-ba29-7f9ff559f4aa"
      },
      "execution_count": 62,
      "outputs": [
        {
          "output_type": "execute_result",
          "data": {
            "text/plain": [
              "8"
            ]
          },
          "metadata": {},
          "execution_count": 62
        }
      ]
    }
  ]
}
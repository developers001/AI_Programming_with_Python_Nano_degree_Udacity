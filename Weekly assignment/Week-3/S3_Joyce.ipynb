{
 "cells": [
  {
   "cell_type": "code",
   "execution_count": null,
   "id": "795b7d3e",
   "metadata": {},
   "outputs": [],
   "source": [
    "#Q1\n",
    "def print_stats(lst):\n",
    "    print(sum(lst))\n",
    "    print(max(lst))\n",
    "    print(min(lst))\n",
    "    print(sum(lst)/len(lst))\n",
    "lst= [1,2,3,4,5]\n",
    "print_stats(lst)"
   ]
  },
  {
   "cell_type": "code",
   "execution_count": null,
   "id": "4d340e31",
   "metadata": {},
   "outputs": [],
   "source": [
    "#Q2\n",
    "def if_common(l1,l2):\n",
    "    for elm in l1:\n",
    "        if elm in l2:\n",
    "            return True\n",
    "            break\n",
    "l1=['Tom', 'Bob', 'Sue', 'Rachel']\n",
    "l2=['Bob', 'Susan', 'Roger', 'Mike']\n",
    "if_common(l1,l2)"
   ]
  },
  {
   "cell_type": "code",
   "execution_count": null,
   "id": "62fc0cc8",
   "metadata": {},
   "outputs": [],
   "source": [
    "#Q3\n",
    "def combine_dic(d1,d2):\n",
    "    d3=d1.copy()\n",
    "    d3.update(d2)\n",
    "    for elm in d3:\n",
    "        if (elm in d1) and (elm in d2):\n",
    "            d3[elm]=d1[elm]+d2[elm]\n",
    "    return d3\n",
    "    \n",
    "d1 = {'a': 100, 'b': 200, 'c':300}\n",
    "d2 = {'a': 300, 'b': 200, 'd':400}\n",
    "combine_dic(d1,d2)"
   ]
  },
  {
   "cell_type": "code",
   "execution_count": null,
   "id": "93b13412-d151-405e-906b-9531f330eb0e",
   "metadata": {},
   "outputs": [],
   "source": [
    "#Q4\n",
    "def print_fb():\n",
    "    for i in range(1,101):\n",
    "        if (i%3==0) and (i%5==0):\n",
    "            print('FizzBuzz')\n",
    "        elif i%5==0:\n",
    "            print('Buzz')\n",
    "        elif i%3==0:\n",
    "            print('Fizz')\n",
    "        else:\n",
    "            print(i)\n",
    "print_fb()"
   ]
  },
  {
   "cell_type": "code",
   "execution_count": null,
   "id": "ea6d34a9-8184-4cf4-997b-4aef398edafd",
   "metadata": {},
   "outputs": [],
   "source": [
    "#Q5\n",
    "def check_pwd(pwd):\n",
    "    sum_check=0\n",
    "    if (len(pwd)<=16) and (len(pwd)>=6):\n",
    "        for i in pwd:\n",
    "            if check_star(i)!=1:\n",
    "                check_star(i)\n",
    "            else:\n",
    "                sum_check+=1\n",
    "            if check_lowerletter(i)!=1:\n",
    "                check_lowerletter(i)\n",
    "            else:\n",
    "                sum_check+=1\n",
    "            if check_upperletter(i)!=1:\n",
    "                check_upperletter(i)\n",
    "            else:\n",
    "                sum_check+=1\n",
    "            if check_number(i)!=1:\n",
    "                check_number(i)\n",
    "            else:\n",
    "                sum_check+=1\n",
    "        if sum_check>=4:\n",
    "            print('yes')\n",
    "        else:\n",
    "            print('no')\n",
    "    else:\n",
    "        print('no')\n",
    "            \n",
    "def check_star(i):\n",
    "    if i in ['$','#','@']:\n",
    "        return 1\n",
    "    else:\n",
    "        return 0\n",
    "def check_lowerletter(i):\n",
    "    if i.isalpha():\n",
    "        if i.lower()==i:\n",
    "            return 1\n",
    "        else: \n",
    "            return 0\n",
    "    else: \n",
    "        return 0\n",
    "\n",
    "def check_upperletter(i):\n",
    "    if i.isalpha():\n",
    "        if i.upper()==i:\n",
    "            return 1\n",
    "        else: \n",
    "            return 0\n",
    "    else: \n",
    "        return 0\n",
    "\n",
    "def check_number(i):\n",
    "    try:\n",
    "        int(i)\n",
    "        return 1\n",
    "    except:\n",
    "        return 0\n",
    "\n",
    "pwd=input('Write down you password here: ')\n",
    "check_pwd(pwd)"
   ]
  },
  {
   "cell_type": "code",
   "execution_count": null,
   "id": "71b96229-18ca-4e32-b1c3-5917f823e8bd",
   "metadata": {},
   "outputs": [],
   "source": [
    "#Q6\n",
    "def set_list(lst):\n",
    "    return list(set(lst))\n",
    "lst=[1,2,3,3,3,3,4,5]\n",
    "set_list(lst)"
   ]
  },
  {
   "cell_type": "code",
   "execution_count": null,
   "id": "e65d78e2-fa7f-4c5c-b1ec-c17ed5b98691",
   "metadata": {},
   "outputs": [],
   "source": [
    "#Q7\n",
    "def cal_hypo(h,b):\n",
    "    return abs((h**2+b**2)**0.5)\n",
    "cal_hypo(6,8)"
   ]
  },
  {
   "cell_type": "code",
   "execution_count": null,
   "id": "e6d06b48-031f-4c09-b603-aa08aabcbc6d",
   "metadata": {},
   "outputs": [],
   "source": [
    "#Q8\n",
    "def cal_score(word):\n",
    "    dic={'A':1,'E':1,'I':1,'O':1,'U':1,'L':1,'N':1,'R':1,'S':1,'T':1,'D':2,'G':2,'B':3,'C':3,'M':3,'P':3,\n",
    "         'F':4,'V':4,'H':4,'W':4,'Y':4,'K':5,'J':8,'X':8,'Q':10,'Z':10}\n",
    "    score=0\n",
    "    for i in word:\n",
    "        i=i.upper()\n",
    "        score+=dic[i]\n",
    "    return score\n",
    "cal_score('Cabbage')"
   ]
  },
  {
   "cell_type": "code",
   "execution_count": null,
   "id": "bff9469e-22c6-42a3-8b86-a8343f2569ae",
   "metadata": {},
   "outputs": [],
   "source": [
    "#Q9\n",
    "def find_gcd(int1,int2):\n",
    "    if max(int1,int2)%min(int1,int2)==0:\n",
    "        return min(int1,int2)\n",
    "    else:\n",
    "        for i in range(min(int1,int2),0,-1):\n",
    "            if int1%i==0 and int2%i ==0:\n",
    "                return i\n",
    "find_gcd(20,25)"
   ]
  },
  {
   "cell_type": "code",
   "execution_count": null,
   "id": "13a79fa2-95c7-4037-9abf-a5304eb2bc28",
   "metadata": {},
   "outputs": [],
   "source": []
  },
  {
   "cell_type": "code",
   "execution_count": null,
   "id": "9f25fc09-93e6-4e22-b14f-39a4847f290d",
   "metadata": {},
   "outputs": [],
   "source": []
  }
 ],
 "metadata": {
  "kernelspec": {
   "display_name": "Python 3 (ipykernel)",
   "language": "python",
   "name": "python3"
  },
  "language_info": {
   "codemirror_mode": {
    "name": "ipython",
    "version": 3
   },
   "file_extension": ".py",
   "mimetype": "text/x-python",
   "name": "python",
   "nbconvert_exporter": "python",
   "pygments_lexer": "ipython3",
   "version": "3.9.7"
  }
 },
 "nbformat": 4,
 "nbformat_minor": 5
}

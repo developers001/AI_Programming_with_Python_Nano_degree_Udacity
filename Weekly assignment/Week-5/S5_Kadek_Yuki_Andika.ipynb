{
  "nbformat": 4,
  "nbformat_minor": 0,
  "metadata": {
    "colab": {
      "provenance": []
    },
    "kernelspec": {
      "name": "python3",
      "display_name": "Python 3"
    },
    "language_info": {
      "name": "python"
    }
  },
  "cells": [
    {
      "cell_type": "code",
      "execution_count": 1,
      "metadata": {
        "colab": {
          "base_uri": "https://localhost:8080/",
          "height": 424
        },
        "id": "1k2mWpks8zJX",
        "outputId": "6c255b80-322d-4b41-adcf-9c38d69ecbe5"
      },
      "outputs": [
        {
          "output_type": "execute_result",
          "data": {
            "text/plain": [
              "      year      state      month   number       date\n",
              "0     1998       Acre    Janeiro    0.000 1998-01-01\n",
              "1     1998       Acre  Fevereiro    0.000 1998-01-01\n",
              "2     1998       Acre      Março    0.000 1998-01-01\n",
              "3     1998       Acre      Abril    0.000 1998-01-01\n",
              "4     1998       Acre       Maio    0.000 1998-01-01\n",
              "...    ...        ...        ...      ...        ...\n",
              "6449  2017  Tocantins      Julho    2.397 2017-01-01\n",
              "6450  2017  Tocantins     Agosto    3.536 2017-01-01\n",
              "6451  2017  Tocantins   Setembro   10.737 2017-01-01\n",
              "6452  2017  Tocantins    Outubro    2.969 2017-01-01\n",
              "6453  2017  Tocantins   Novembro  434.000 2017-01-01\n",
              "\n",
              "[6454 rows x 5 columns]"
            ],
            "text/html": [
              "\n",
              "\n",
              "  <div id=\"df-dc375ef0-9995-4752-9014-31d9ac6028fd\">\n",
              "    <div class=\"colab-df-container\">\n",
              "      <div>\n",
              "<style scoped>\n",
              "    .dataframe tbody tr th:only-of-type {\n",
              "        vertical-align: middle;\n",
              "    }\n",
              "\n",
              "    .dataframe tbody tr th {\n",
              "        vertical-align: top;\n",
              "    }\n",
              "\n",
              "    .dataframe thead th {\n",
              "        text-align: right;\n",
              "    }\n",
              "</style>\n",
              "<table border=\"1\" class=\"dataframe\">\n",
              "  <thead>\n",
              "    <tr style=\"text-align: right;\">\n",
              "      <th></th>\n",
              "      <th>year</th>\n",
              "      <th>state</th>\n",
              "      <th>month</th>\n",
              "      <th>number</th>\n",
              "      <th>date</th>\n",
              "    </tr>\n",
              "  </thead>\n",
              "  <tbody>\n",
              "    <tr>\n",
              "      <th>0</th>\n",
              "      <td>1998</td>\n",
              "      <td>Acre</td>\n",
              "      <td>Janeiro</td>\n",
              "      <td>0.000</td>\n",
              "      <td>1998-01-01</td>\n",
              "    </tr>\n",
              "    <tr>\n",
              "      <th>1</th>\n",
              "      <td>1998</td>\n",
              "      <td>Acre</td>\n",
              "      <td>Fevereiro</td>\n",
              "      <td>0.000</td>\n",
              "      <td>1998-01-01</td>\n",
              "    </tr>\n",
              "    <tr>\n",
              "      <th>2</th>\n",
              "      <td>1998</td>\n",
              "      <td>Acre</td>\n",
              "      <td>Março</td>\n",
              "      <td>0.000</td>\n",
              "      <td>1998-01-01</td>\n",
              "    </tr>\n",
              "    <tr>\n",
              "      <th>3</th>\n",
              "      <td>1998</td>\n",
              "      <td>Acre</td>\n",
              "      <td>Abril</td>\n",
              "      <td>0.000</td>\n",
              "      <td>1998-01-01</td>\n",
              "    </tr>\n",
              "    <tr>\n",
              "      <th>4</th>\n",
              "      <td>1998</td>\n",
              "      <td>Acre</td>\n",
              "      <td>Maio</td>\n",
              "      <td>0.000</td>\n",
              "      <td>1998-01-01</td>\n",
              "    </tr>\n",
              "    <tr>\n",
              "      <th>...</th>\n",
              "      <td>...</td>\n",
              "      <td>...</td>\n",
              "      <td>...</td>\n",
              "      <td>...</td>\n",
              "      <td>...</td>\n",
              "    </tr>\n",
              "    <tr>\n",
              "      <th>6449</th>\n",
              "      <td>2017</td>\n",
              "      <td>Tocantins</td>\n",
              "      <td>Julho</td>\n",
              "      <td>2.397</td>\n",
              "      <td>2017-01-01</td>\n",
              "    </tr>\n",
              "    <tr>\n",
              "      <th>6450</th>\n",
              "      <td>2017</td>\n",
              "      <td>Tocantins</td>\n",
              "      <td>Agosto</td>\n",
              "      <td>3.536</td>\n",
              "      <td>2017-01-01</td>\n",
              "    </tr>\n",
              "    <tr>\n",
              "      <th>6451</th>\n",
              "      <td>2017</td>\n",
              "      <td>Tocantins</td>\n",
              "      <td>Setembro</td>\n",
              "      <td>10.737</td>\n",
              "      <td>2017-01-01</td>\n",
              "    </tr>\n",
              "    <tr>\n",
              "      <th>6452</th>\n",
              "      <td>2017</td>\n",
              "      <td>Tocantins</td>\n",
              "      <td>Outubro</td>\n",
              "      <td>2.969</td>\n",
              "      <td>2017-01-01</td>\n",
              "    </tr>\n",
              "    <tr>\n",
              "      <th>6453</th>\n",
              "      <td>2017</td>\n",
              "      <td>Tocantins</td>\n",
              "      <td>Novembro</td>\n",
              "      <td>434.000</td>\n",
              "      <td>2017-01-01</td>\n",
              "    </tr>\n",
              "  </tbody>\n",
              "</table>\n",
              "<p>6454 rows × 5 columns</p>\n",
              "</div>\n",
              "      <button class=\"colab-df-convert\" onclick=\"convertToInteractive('df-dc375ef0-9995-4752-9014-31d9ac6028fd')\"\n",
              "              title=\"Convert this dataframe to an interactive table.\"\n",
              "              style=\"display:none;\">\n",
              "\n",
              "  <svg xmlns=\"http://www.w3.org/2000/svg\" height=\"24px\"viewBox=\"0 0 24 24\"\n",
              "       width=\"24px\">\n",
              "    <path d=\"M0 0h24v24H0V0z\" fill=\"none\"/>\n",
              "    <path d=\"M18.56 5.44l.94 2.06.94-2.06 2.06-.94-2.06-.94-.94-2.06-.94 2.06-2.06.94zm-11 1L8.5 8.5l.94-2.06 2.06-.94-2.06-.94L8.5 2.5l-.94 2.06-2.06.94zm10 10l.94 2.06.94-2.06 2.06-.94-2.06-.94-.94-2.06-.94 2.06-2.06.94z\"/><path d=\"M17.41 7.96l-1.37-1.37c-.4-.4-.92-.59-1.43-.59-.52 0-1.04.2-1.43.59L10.3 9.45l-7.72 7.72c-.78.78-.78 2.05 0 2.83L4 21.41c.39.39.9.59 1.41.59.51 0 1.02-.2 1.41-.59l7.78-7.78 2.81-2.81c.8-.78.8-2.07 0-2.86zM5.41 20L4 18.59l7.72-7.72 1.47 1.35L5.41 20z\"/>\n",
              "  </svg>\n",
              "      </button>\n",
              "\n",
              "\n",
              "\n",
              "    <div id=\"df-b3e5491e-eee4-4b37-b054-e36a3ff71340\">\n",
              "      <button class=\"colab-df-quickchart\" onclick=\"quickchart('df-b3e5491e-eee4-4b37-b054-e36a3ff71340')\"\n",
              "              title=\"Suggest charts.\"\n",
              "              style=\"display:none;\">\n",
              "\n",
              "<svg xmlns=\"http://www.w3.org/2000/svg\" height=\"24px\"viewBox=\"0 0 24 24\"\n",
              "     width=\"24px\">\n",
              "    <g>\n",
              "        <path d=\"M19 3H5c-1.1 0-2 .9-2 2v14c0 1.1.9 2 2 2h14c1.1 0 2-.9 2-2V5c0-1.1-.9-2-2-2zM9 17H7v-7h2v7zm4 0h-2V7h2v10zm4 0h-2v-4h2v4z\"/>\n",
              "    </g>\n",
              "</svg>\n",
              "      </button>\n",
              "    </div>\n",
              "\n",
              "<style>\n",
              "  .colab-df-quickchart {\n",
              "    background-color: #E8F0FE;\n",
              "    border: none;\n",
              "    border-radius: 50%;\n",
              "    cursor: pointer;\n",
              "    display: none;\n",
              "    fill: #1967D2;\n",
              "    height: 32px;\n",
              "    padding: 0 0 0 0;\n",
              "    width: 32px;\n",
              "  }\n",
              "\n",
              "  .colab-df-quickchart:hover {\n",
              "    background-color: #E2EBFA;\n",
              "    box-shadow: 0px 1px 2px rgba(60, 64, 67, 0.3), 0px 1px 3px 1px rgba(60, 64, 67, 0.15);\n",
              "    fill: #174EA6;\n",
              "  }\n",
              "\n",
              "  [theme=dark] .colab-df-quickchart {\n",
              "    background-color: #3B4455;\n",
              "    fill: #D2E3FC;\n",
              "  }\n",
              "\n",
              "  [theme=dark] .colab-df-quickchart:hover {\n",
              "    background-color: #434B5C;\n",
              "    box-shadow: 0px 1px 3px 1px rgba(0, 0, 0, 0.15);\n",
              "    filter: drop-shadow(0px 1px 2px rgba(0, 0, 0, 0.3));\n",
              "    fill: #FFFFFF;\n",
              "  }\n",
              "</style>\n",
              "\n",
              "    <script>\n",
              "      async function quickchart(key) {\n",
              "        const containerElement = document.querySelector('#' + key);\n",
              "        const charts = await google.colab.kernel.invokeFunction(\n",
              "            'suggestCharts', [key], {});\n",
              "      }\n",
              "    </script>\n",
              "\n",
              "      <script>\n",
              "\n",
              "function displayQuickchartButton(domScope) {\n",
              "  let quickchartButtonEl =\n",
              "    domScope.querySelector('#df-b3e5491e-eee4-4b37-b054-e36a3ff71340 button.colab-df-quickchart');\n",
              "  quickchartButtonEl.style.display =\n",
              "    google.colab.kernel.accessAllowed ? 'block' : 'none';\n",
              "}\n",
              "\n",
              "        displayQuickchartButton(document);\n",
              "      </script>\n",
              "      <style>\n",
              "    .colab-df-container {\n",
              "      display:flex;\n",
              "      flex-wrap:wrap;\n",
              "      gap: 12px;\n",
              "    }\n",
              "\n",
              "    .colab-df-convert {\n",
              "      background-color: #E8F0FE;\n",
              "      border: none;\n",
              "      border-radius: 50%;\n",
              "      cursor: pointer;\n",
              "      display: none;\n",
              "      fill: #1967D2;\n",
              "      height: 32px;\n",
              "      padding: 0 0 0 0;\n",
              "      width: 32px;\n",
              "    }\n",
              "\n",
              "    .colab-df-convert:hover {\n",
              "      background-color: #E2EBFA;\n",
              "      box-shadow: 0px 1px 2px rgba(60, 64, 67, 0.3), 0px 1px 3px 1px rgba(60, 64, 67, 0.15);\n",
              "      fill: #174EA6;\n",
              "    }\n",
              "\n",
              "    [theme=dark] .colab-df-convert {\n",
              "      background-color: #3B4455;\n",
              "      fill: #D2E3FC;\n",
              "    }\n",
              "\n",
              "    [theme=dark] .colab-df-convert:hover {\n",
              "      background-color: #434B5C;\n",
              "      box-shadow: 0px 1px 3px 1px rgba(0, 0, 0, 0.15);\n",
              "      filter: drop-shadow(0px 1px 2px rgba(0, 0, 0, 0.3));\n",
              "      fill: #FFFFFF;\n",
              "    }\n",
              "  </style>\n",
              "\n",
              "      <script>\n",
              "        const buttonEl =\n",
              "          document.querySelector('#df-dc375ef0-9995-4752-9014-31d9ac6028fd button.colab-df-convert');\n",
              "        buttonEl.style.display =\n",
              "          google.colab.kernel.accessAllowed ? 'block' : 'none';\n",
              "\n",
              "        async function convertToInteractive(key) {\n",
              "          const element = document.querySelector('#df-dc375ef0-9995-4752-9014-31d9ac6028fd');\n",
              "          const dataTable =\n",
              "            await google.colab.kernel.invokeFunction('convertToInteractive',\n",
              "                                                     [key], {});\n",
              "          if (!dataTable) return;\n",
              "\n",
              "          const docLinkHtml = 'Like what you see? Visit the ' +\n",
              "            '<a target=\"_blank\" href=https://colab.research.google.com/notebooks/data_table.ipynb>data table notebook</a>'\n",
              "            + ' to learn more about interactive tables.';\n",
              "          element.innerHTML = '';\n",
              "          dataTable['output_type'] = 'display_data';\n",
              "          await google.colab.output.renderOutput(dataTable, element);\n",
              "          const docLink = document.createElement('div');\n",
              "          docLink.innerHTML = docLinkHtml;\n",
              "          element.appendChild(docLink);\n",
              "        }\n",
              "      </script>\n",
              "    </div>\n",
              "  </div>\n"
            ]
          },
          "metadata": {},
          "execution_count": 1
        }
      ],
      "source": [
        "import pandas as pd\n",
        "\n",
        "df = pd.read_excel('/content/sample_data/amazon.xlsx')\n",
        "df"
      ]
    },
    {
      "cell_type": "code",
      "source": [
        "# Calculate the total number of forest fires\n",
        "total_fires = df['number'].sum()\n",
        "print(\"Total number of forest fires:\", total_fires)\n",
        "\n"
      ],
      "metadata": {
        "colab": {
          "base_uri": "https://localhost:8080/"
        },
        "id": "DbAGb7a39cmJ",
        "outputId": "39568fae-6bab-4e93-adc0-6923bfcaffdc"
      },
      "execution_count": 3,
      "outputs": [
        {
          "output_type": "stream",
          "name": "stdout",
          "text": [
            "Total number of forest fires: 698924.0730000001\n"
          ]
        }
      ]
    },
    {
      "cell_type": "code",
      "source": [
        "# Calculate the average number of fires per year\n",
        "average_fires_per_year = df.groupby('year')['number'].sum().mean()\n",
        "print(\"Average number of fires per year:\", average_fires_per_year)\n",
        "\n"
      ],
      "metadata": {
        "colab": {
          "base_uri": "https://localhost:8080/"
        },
        "id": "48JXULIjJpPx",
        "outputId": "ace38c3a-74fa-4715-d91a-d134bbe9aad3"
      },
      "execution_count": 4,
      "outputs": [
        {
          "output_type": "stream",
          "name": "stdout",
          "text": [
            "Average number of fires per year: 34946.203649999996\n"
          ]
        }
      ]
    },
    {
      "cell_type": "code",
      "source": [
        "# Calculate the number of fires by state\n",
        "fires_by_state = df.groupby('state')['number'].sum()\n",
        "print(\"Number of fires by state:\")\n",
        "print(fires_by_state)\n",
        "\n"
      ],
      "metadata": {
        "colab": {
          "base_uri": "https://localhost:8080/"
        },
        "id": "lZ78zidNJ0KE",
        "outputId": "cecccf12-1c83-43bc-f8f7-8ff0038d6cc0"
      },
      "execution_count": 5,
      "outputs": [
        {
          "output_type": "stream",
          "name": "stdout",
          "text": [
            "Number of fires by state:\n",
            "state\n",
            "Acre                18464.030\n",
            "Alagoas              4644.000\n",
            "Amapa               21831.576\n",
            "Amazonas            30650.129\n",
            "Bahia               44746.226\n",
            "Ceara               30428.063\n",
            "Distrito Federal     3561.000\n",
            "Espirito Santo       6546.000\n",
            "Goias               37695.520\n",
            "Maranhao            25129.131\n",
            "Mato Grosso         96246.028\n",
            "Minas Gerais        37475.258\n",
            "Paraiba             52435.918\n",
            "Pará                24512.144\n",
            "Pernambuco          24498.000\n",
            "Piau                37803.747\n",
            "Rio                 45160.865\n",
            "Rondonia            20285.429\n",
            "Roraima             24385.074\n",
            "Santa Catarina      24359.852\n",
            "Sao Paulo           51121.198\n",
            "Sergipe              3237.000\n",
            "Tocantins           33707.885\n",
            "Name: number, dtype: float64\n"
          ]
        }
      ]
    },
    {
      "cell_type": "code",
      "source": [
        "# Filter the dataset for the Legal Amazon region\n",
        "legal_amazon_states = ['Acre', 'Amapá', 'Pará', 'Amazonas', 'Rondônia', 'Roraima', 'Mato Grosso', 'Tocantins', 'Maranhão']\n",
        "legal_amazon_fires = df[df['state'].isin(legal_amazon_states)]\n",
        "print(\"Forest fires in the Legal Amazon region:\")\n",
        "print(legal_amazon_fires)\n",
        "\n"
      ],
      "metadata": {
        "colab": {
          "base_uri": "https://localhost:8080/"
        },
        "id": "Or5K5pKFJ2L4",
        "outputId": "79bb841e-b862-42c8-995f-5abcab2cd4e8"
      },
      "execution_count": 6,
      "outputs": [
        {
          "output_type": "stream",
          "name": "stdout",
          "text": [
            "Forest fires in the Legal Amazon region:\n",
            "      year      state      month   number       date\n",
            "0     1998       Acre    Janeiro    0.000 1998-01-01\n",
            "1     1998       Acre  Fevereiro    0.000 1998-01-01\n",
            "2     1998       Acre      Março    0.000 1998-01-01\n",
            "3     1998       Acre      Abril    0.000 1998-01-01\n",
            "4     1998       Acre       Maio    0.000 1998-01-01\n",
            "...    ...        ...        ...      ...        ...\n",
            "6449  2017  Tocantins      Julho    2.397 2017-01-01\n",
            "6450  2017  Tocantins     Agosto    3.536 2017-01-01\n",
            "6451  2017  Tocantins   Setembro   10.737 2017-01-01\n",
            "6452  2017  Tocantins    Outubro    2.969 2017-01-01\n",
            "6453  2017  Tocantins   Novembro  434.000 2017-01-01\n",
            "\n",
            "[1673 rows x 5 columns]\n"
          ]
        }
      ]
    },
    {
      "cell_type": "code",
      "source": [
        "# Plot the number of fires over the years\n",
        "import matplotlib.pyplot as plt\n",
        "\n",
        "fires_by_year = df.groupby('year')['number'].sum()\n",
        "fires_by_year.plot(kind='line', figsize=(10, 6))\n",
        "plt.xlabel('Year')\n",
        "plt.ylabel('Number of Fires')\n",
        "plt.title('Number of Forest Fires in Brazil over Time')\n",
        "plt.show()"
      ],
      "metadata": {
        "colab": {
          "base_uri": "https://localhost:8080/",
          "height": 564
        },
        "id": "YjqAc_bEJ31n",
        "outputId": "7f8d5874-98a1-4a09-cfaf-4a853b471611"
      },
      "execution_count": 7,
      "outputs": [
        {
          "output_type": "display_data",
          "data": {
            "text/plain": [
              "<Figure size 1000x600 with 1 Axes>"
            ],
            "image/png": "[encoded data removed]"
          },
          "metadata": {}
        }
      ]
    }
  ]
}
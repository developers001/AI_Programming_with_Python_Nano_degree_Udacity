{
 "cells": [
  {
   "cell_type": "code",
   "execution_count": 4,
   "id": "3653ac00",
   "metadata": {},
   "outputs": [],
   "source": [
    "import math"
   ]
  },
  {
   "cell_type": "code",
   "execution_count": 5,
   "id": "3d4672ad",
   "metadata": {},
   "outputs": [],
   "source": [
    "class Book:\n",
    "    def __init__(self, title, author, price):\n",
    "        self.title = title\n",
    "        self.author = author\n",
    "        self.price = price\n",
    "    def view(self):\n",
    "        return 'Title: {}, Author: {}, Price: {}'.format(self.title, self.author, self.price)\n",
    "        "
   ]
  },
  {
   "cell_type": "code",
   "execution_count": 6,
   "id": "c05b2252",
   "metadata": {},
   "outputs": [
    {
     "name": "stdout",
     "output_type": "stream",
     "text": [
      "Title: Python Course, Author: Eric Matthes, Price: 23 $\n"
     ]
    }
   ],
   "source": [
    "MyBook = Book('Python Course' , 'Eric Matthes' , '23 $')\n",
    "print( MyBook.view())"
   ]
  },
  {
   "cell_type": "code",
   "execution_count": 7,
   "id": "52b5ebb7",
   "metadata": {},
   "outputs": [],
   "source": [
    "class Circle:\n",
    "    def __init__(self, a, b, r):\n",
    "        self.a = a\n",
    "        self.b = b\n",
    "        self.r = r\n",
    "        \n",
    "    def area(self):\n",
    "        return math.pi * self.r ** 2\n",
    "    \n",
    "    def perimeter(self):\n",
    "        return math.pi * 2 * self.r\n",
    "    \n",
    "    def testBelongs(self, x, y):\n",
    "        r_square = self.r ** 2\n",
    "        dif_x_square = (x - self.a) ** 2\n",
    "        dif_y_square = (y - self.b) ** 2\n",
    "        sum_dif = dif_x_square + dif_y_square\n",
    "        return sum_dif <= r_square\n",
    "\n",
    "class Cylinder(Circle):\n",
    "    def __init__(self, a, b, r, h):\n",
    "        Circle.__init__(self, a, b, r)\n",
    "        self.h = h\n",
    "    def volumn(self):\n",
    "        return self.area() * self.h"
   ]
  },
  {
   "cell_type": "code",
   "execution_count": 8,
   "id": "25a141f5",
   "metadata": {},
   "outputs": [
    {
     "name": "stdout",
     "output_type": "stream",
     "text": [
      "314.1592653589793\n",
      "62.83185307179586\n",
      "True\n",
      "True\n",
      "False\n"
     ]
    }
   ],
   "source": [
    "circle = Circle(0,0, 10)\n",
    "print(circle.area())\n",
    "print(circle.perimeter())\n",
    "print(circle.testBelongs(1,1))\n",
    "print(circle.testBelongs(3,3))\n",
    "print(circle.testBelongs(1,10))\n"
   ]
  },
  {
   "cell_type": "code",
   "execution_count": 9,
   "id": "d1470cf0",
   "metadata": {},
   "outputs": [
    {
     "name": "stdout",
     "output_type": "stream",
     "text": [
      "3141.5926535897934\n"
     ]
    }
   ],
   "source": [
    "cylinder = Cylinder(0, 0, 10, 10)\n",
    "print(cylinder.volumn())"
   ]
  },
  {
   "cell_type": "code",
   "execution_count": 10,
   "id": "a77510e2",
   "metadata": {},
   "outputs": [],
   "source": [
    "class BankAccount:\n",
    "    def __init__(self, accountNumber: int, name: str, balance: float):\n",
    "        self.accountNumber = accountNumber\n",
    "        self.name = name\n",
    "        self.balance = balance\n",
    "    \n",
    "    def deposit(self, amount: float):\n",
    "        self.balance += amount\n",
    "    \n",
    "    def withdraw(self, amount: float):\n",
    "        self.balance -= amount\n",
    "    \n",
    "    def bankfees(self):\n",
    "        self.balance *= 0.95\n",
    "    \n",
    "    def display(self):\n",
    "        print(f\"Account Number: {self.accountNumber}\")\n",
    "        print(f\"Name: {self.name}\")\n",
    "        print(f\"Balance: {self.balance}\")"
   ]
  },
  {
   "cell_type": "code",
   "execution_count": 11,
   "id": "cd3ab6c7",
   "metadata": {},
   "outputs": [
    {
     "name": "stdout",
     "output_type": "stream",
     "text": [
      "Account Number: 123456\n",
      "Name: John Doe\n",
      "Balance: 1000\n",
      "Account Number: 123456\n",
      "Name: John Doe\n",
      "Balance: 1500\n",
      "Account Number: 123456\n",
      "Name: John Doe\n",
      "Balance: 1300\n",
      "Account Number: 123456\n",
      "Name: John Doe\n",
      "Balance: 1235.0\n"
     ]
    }
   ],
   "source": [
    "#Example\n",
    "account = BankAccount(123456, \"John Doe\", 1000)\n",
    "account.display()\n",
    "\n",
    "account.deposit(500)\n",
    "account.display()\n",
    "\n",
    "account.withdraw(200)\n",
    "account.display()\n",
    "\n",
    "account.bankfees()\n",
    "account.display()\n"
   ]
  },
  {
   "cell_type": "code",
   "execution_count": null,
   "id": "699642b3",
   "metadata": {},
   "outputs": [],
   "source": []
  }
 ],
 "metadata": {
  "kernelspec": {
   "display_name": "Python 3 (ipykernel)",
   "language": "python",
   "name": "python3"
  },
  "language_info": {
   "codemirror_mode": {
    "name": "ipython",
    "version": 3
   },
   "file_extension": ".py",
   "mimetype": "text/x-python",
   "name": "python",
   "nbconvert_exporter": "python",
   "pygments_lexer": "ipython3",
   "version": "3.11.3"
  }
 },
 "nbformat": 4,
 "nbformat_minor": 5
}

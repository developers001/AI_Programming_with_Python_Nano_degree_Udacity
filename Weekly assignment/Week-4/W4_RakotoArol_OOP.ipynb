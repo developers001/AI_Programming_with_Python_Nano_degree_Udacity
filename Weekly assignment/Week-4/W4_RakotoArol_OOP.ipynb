{
  "nbformat": 4,
  "nbformat_minor": 0,
  "metadata": {
    "colab": {
      "provenance": []
    },
    "kernelspec": {
      "name": "python3",
      "display_name": "Python 3"
    },
    "language_info": {
      "name": "python"
    }
  },
  "cells": [
    {
      "cell_type": "code",
      "execution_count": null,
      "metadata": {
        "id": "Q-mnxFu3lXgv"
      },
      "outputs": [],
      "source": [
        "class Rectangle:\n",
        "  #define constructor with attributes: length and width\n",
        "  def __init__(self, length, width):\n",
        "    self.length = length\n",
        "    self.width = width\n",
        "  #define perimeter method\n",
        "  def Perimeter(self):\n",
        "    return 2*(self.length + self.width)\n",
        "  #create area method\n",
        "  def Area(self):\n",
        "    return self.length*self.width\n",
        "  #create display method\n",
        "  def display(self):\n",
        "    print(\"The length of rectangle is:\", self.length)\n",
        "    print(\"The width of rectangle is:\", self.width)\n",
        "    print(\"The perimeter of rectangle is:\", self.Perimeter())\n",
        "    print(\"The area of rectangle is:\", self.Area())\n"
      ]
    },
    {
      "cell_type": "code",
      "source": [
        "class Cuboid(Rectangle):\n",
        "  def __init__(self, length, width, height):\n",
        "    Rectangle.__init__(self, length, width)\n",
        "    self.height = height\n",
        "  #define volume method\n",
        "  def volume(self):\n",
        "    return self.length*self.width*self.height\n"
      ],
      "metadata": {
        "id": "Ca3DAQDDnQVE"
      },
      "execution_count": null,
      "outputs": []
    },
    {
      "cell_type": "code",
      "source": [
        "myRectangle = Rectangle(7,5) # create rectangle object\n",
        "myRectangle.display() # calling the method on the object\n",
        "print('--------------------------------------------------')\n",
        "myCuboid =Cuboid(7,5,2) #create cuboid object\n",
        "print('The volume of myCuboid is:', myCuboid.volume())"
      ],
      "metadata": {
        "colab": {
          "base_uri": "https://localhost:8080/"
        },
        "id": "78j3uqUVoM5q",
        "outputId": "a1dd647a-4331-422c-a4c7-a8836de7c493"
      },
      "execution_count": null,
      "outputs": [
        {
          "output_type": "stream",
          "name": "stdout",
          "text": [
            "The length of rectangle is: 7\n",
            "The width of rectangle is: 5\n",
            "The perimeter of rectangle is: 24\n",
            "The area of rectangle is: 35\n",
            "--------------------------------------------------\n",
            "The volume of myCuboid is: 70\n"
          ]
        }
      ]
    },
    {
      "cell_type": "code",
      "source": [
        "class Book:\n",
        "  # define Book with the attribute:  Title, Author_Name, Price\n",
        "  def __init__(self, title, author_full_name, price):\n",
        "    self.title = title\n",
        "    self.author_full_name = author_full_name\n",
        "    self.price = price\n",
        "  # define constructor method\n",
        "  def constructor(self):\n",
        "    self.title = input(\"Type book title: \")\n",
        "    self.author_full_name = input(\"Type book author full name: \")\n",
        "    self.price = input(\"Type book price: \")\n",
        "    return(self.title,self.author_full_name, self.price)\n",
        "  # define view method\n",
        "  def view(self):\n",
        "    print(self.constructor())\n",
        "\n",
        "\n",
        "\n"
      ],
      "metadata": {
        "id": "hq4jkNBKpAWI"
      },
      "execution_count": 2,
      "outputs": []
    },
    {
      "cell_type": "code",
      "source": [
        "MyBook = Book(\"Python course\", \"Eric Matthes\", '23$')\n",
        "print(MyBook.view())"
      ],
      "metadata": {
        "colab": {
          "base_uri": "https://localhost:8080/"
        },
        "id": "XxNrPOeAuchA",
        "outputId": "d00591e3-d4ad-4d9e-b063-6f088b1d0738"
      },
      "execution_count": 3,
      "outputs": [
        {
          "output_type": "stream",
          "name": "stdout",
          "text": [
            "Type book title: Python\n",
            "Type book author full name: Eric\n",
            "Type book price: 23\n",
            "('Python', 'Eric', '23')\n",
            "None\n"
          ]
        }
      ]
    },
    {
      "cell_type": "code",
      "source": [
        "class Circle:\n",
        "  # define circle attribute center a and b, radius = r\n",
        "  def __init__(self, a, b, r):\n",
        "    self.a = a\n",
        "    self.b = b\n",
        "    self.r = r\n",
        "  def area(self):\n",
        "    pi = 22/7\n",
        "    return pi*(self.r)**2\n",
        "  def perimeter(self):\n",
        "    pi = 22/7\n",
        "    return 2*pi*self.r\n",
        "  def Belongs(self, x, y):\n",
        "    return (x-self.a)**2 + (y-self.b)**2 - self.r**2\n",
        "  def testBelongs(self, x, y):\n",
        "    if self.Belongs(x,y)==0:\n",
        "      print(\"The point x,y belongs to circel C\")\n",
        "    else:\n",
        "      print(\"The point x,y does not belong to circel C\")\n",
        "\n",
        "class Cylinder:\n",
        "  def __init__(self, a, b, r, height):\n",
        "    Circle.__init__(self, a, b, r)\n",
        "    self.height = height\n",
        "  def volume(self):\n",
        "    pi = 22/7\n",
        "    return (pi*(self.r)**2)*self.height\n",
        "\n",
        "\n"
      ],
      "metadata": {
        "id": "1XUTB0O0uwvu"
      },
      "execution_count": 22,
      "outputs": []
    },
    {
      "cell_type": "code",
      "source": [
        "C = Circle(2,5,7)\n",
        "print(C.perimeter())\n",
        "print(C.testBelongs(3,6))\n",
        "d = Cylinder(2,5,7,4)\n",
        "print(d.volume())"
      ],
      "metadata": {
        "colab": {
          "base_uri": "https://localhost:8080/"
        },
        "id": "HwC6Ip6rAPTK",
        "outputId": "2fb2ad43-8537-438a-8800-07f9ad4b7cb3"
      },
      "execution_count": 24,
      "outputs": [
        {
          "output_type": "stream",
          "name": "stdout",
          "text": [
            "44.0\n",
            "The point x,y does not belong to circel C\n",
            "None\n",
            "616.0\n"
          ]
        }
      ]
    },
    {
      "cell_type": "code",
      "source": [
        "class BankAccount:\n",
        "  # define bankaccount with account number, name of the account owner and balance of the account\n",
        "  def __init__(self, account_number, name, balance):\n",
        "    self.account_number = int(account_number)\n",
        "    self.name = str(name)\n",
        "    self.balance = balance\n",
        "\n",
        "  def deposit(self, deposit):\n",
        "\n",
        "    self.balance += deposit\n",
        "\n",
        "  def withdrawal(self, withdraw):\n",
        "    if self.balance<0:\n",
        "      print(\"Low balance\")\n",
        "    else:\n",
        "      self.balance -= withdraw\n",
        "\n",
        "  def bankfees(self):\n",
        "    fees = self.balance*0.05\n",
        "    self.balance -= fees\n",
        "\n",
        "  def display(self):\n",
        "    print(\"Account number: \", self.account_number)\n",
        "    print(\"Account name: \", self.name)\n",
        "    print(\"Balance: \", self.balance)\n",
        "\n"
      ],
      "metadata": {
        "id": "5vNwr3IxAWF8"
      },
      "execution_count": 49,
      "outputs": []
    },
    {
      "cell_type": "code",
      "source": [
        "c = BankAccount(321, 'Klark', 60)\n",
        "c.deposit(45)\n",
        "c.withdrawal(20)\n",
        "c.display()"
      ],
      "metadata": {
        "colab": {
          "base_uri": "https://localhost:8080/"
        },
        "id": "-P2qSgrcL0IM",
        "outputId": "611541a4-67e0-44ec-9720-a329dd9b2f7c"
      },
      "execution_count": 51,
      "outputs": [
        {
          "output_type": "stream",
          "name": "stdout",
          "text": [
            "Account number:  321\n",
            "Account name:  Klark\n",
            "Balance:  85\n"
          ]
        }
      ]
    },
    {
      "cell_type": "code",
      "source": [],
      "metadata": {
        "id": "Ix9RqokOMF0L"
      },
      "execution_count": 41,
      "outputs": []
    }
  ]
}
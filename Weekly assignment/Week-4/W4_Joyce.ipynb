{
 "cells": [
  {
   "cell_type": "code",
   "execution_count": 1,
   "id": "db89b5f4-04c6-4a38-b4da-94b8b7eb2ec9",
   "metadata": {},
   "outputs": [],
   "source": [
    "#Q1\n",
    "class Book:\n",
    "    def __init__(self,title,author,price):\n",
    "        self.title=title\n",
    "        self.author=author\n",
    "        self.price=price\n",
    "    def View(self):\n",
    "        return (self.title,self.author,self.price)"
   ]
  },
  {
   "cell_type": "code",
   "execution_count": 2,
   "id": "0f419d14-1bae-481d-822d-4ae49eacbf44",
   "metadata": {},
   "outputs": [],
   "source": [
    "#Q2\n",
    "import math\n",
    "class Circle:\n",
    "    def __init__(self,a,b,r):\n",
    "        self.a=a\n",
    "        self.b=b\n",
    "        self.c=c\n",
    "    def Area(self):\n",
    "        return math.pi*((self.r)**2)\n",
    "    def Perimeter(self):\n",
    "        return 2*math.pi*(self.r)\n",
    "    def testBelongs(self,x,y):\n",
    "        circle_line=(x-self.a)**2+(y-self.b)**2-self.r**2\n",
    "        if circle_line>0:\n",
    "            return False\n",
    "        else:\n",
    "            return True\n",
    "        \n",
    "class Cylinder(Circle):\n",
    "    def __init__(self, a,b,r,h):\n",
    "        self.h=h\n",
    "    def Volumn(self):\n",
    "        return math.pi*(self.r**2)*self.h"
   ]
  },
  {
   "cell_type": "code",
   "execution_count": 3,
   "id": "d4893e4c-3a8a-4615-b48c-d2c935209991",
   "metadata": {},
   "outputs": [],
   "source": [
    "#Q3\n",
    "class BankAccount:\n",
    "    def __init__(self,accountNumber,name,balance):\n",
    "        self.accountNumber=accountNumber\n",
    "        self.name=name\n",
    "        self.balance=balance\n",
    "    def Deposit(self,d_amount):\n",
    "        self.balance+=d_amount\n",
    "        print('You have successfully deposited {} dollars.'.format(d_amount))\n",
    "    def Withdrawal(self,w_amount):\n",
    "        if w_amount>self.balance:\n",
    "            print('Sorry, you do not have enough balance.')\n",
    "        else:\n",
    "            self.balance-=w_amount\n",
    "            print('You have successfully withdrew {} dollars.'.format(w_amount))\n",
    "    def bankFees(self):\n",
    "        self.balance-=.05*self.balance\n",
    "        print('Now your balance is {} dollars after applying bank fees.'.format(self.balance))\n",
    "    def display(self):\n",
    "        print('Account Number: {} \\nAccount Name: {} \\nAccount Balance:{}'.format(self.accountNumber,self.name,self.balance))"
   ]
  },
  {
   "cell_type": "code",
   "execution_count": null,
   "id": "5c546e9d-01f9-4160-861d-e62f8c53a704",
   "metadata": {},
   "outputs": [],
   "source": []
  },
  {
   "cell_type": "code",
   "execution_count": null,
   "id": "d97c9af4-a155-46e3-81d2-fedb6190abbb",
   "metadata": {},
   "outputs": [],
   "source": []
  }
 ],
 "metadata": {
  "kernelspec": {
   "display_name": "Python 3 (ipykernel)",
   "language": "python",
   "name": "python3"
  },
  "language_info": {
   "codemirror_mode": {
    "name": "ipython",
    "version": 3
   },
   "file_extension": ".py",
   "mimetype": "text/x-python",
   "name": "python",
   "nbconvert_exporter": "python",
   "pygments_lexer": "ipython3",
   "version": "3.9.7"
  }
 },
 "nbformat": 4,
 "nbformat_minor": 5
}

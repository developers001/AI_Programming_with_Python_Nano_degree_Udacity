{
  "nbformat": 4,
  "nbformat_minor": 0,
  "metadata": {
    "colab": {
      "provenance": []
    },
    "kernelspec": {
      "name": "python3",
      "display_name": "Python 3"
    },
    "language_info": {
      "name": "python"
    }
  },
  "cells": [
    {
      "cell_type": "markdown",
      "source": [
        "#1"
      ],
      "metadata": {
        "id": "KEKQiOWKU4dB"
      }
    },
    {
      "cell_type": "code",
      "execution_count": 1,
      "metadata": {
        "colab": {
          "base_uri": "https://localhost:8080/"
        },
        "id": "2cx5LF6vUTfh",
        "outputId": "97d59b29-d30b-415d-8981-5a708f06e1c0"
      },
      "outputs": [
        {
          "output_type": "execute_result",
          "data": {
            "text/plain": [
              "16.999999999999993"
            ]
          },
          "metadata": {},
          "execution_count": 1
        }
      ],
      "source": [
        "import numpy as np\n",
        "\n",
        "# Define the matrix\n",
        "matrix_A = np.array([[1, 3, 2],\n",
        "                     [4, 1, 3],\n",
        "                     [2, 5, 2]])\n",
        "\n",
        "# Compute the determinant\n",
        "determinant_A = np.linalg.det(matrix_A)\n",
        "\n",
        "determinant_A"
      ]
    },
    {
      "cell_type": "markdown",
      "source": [
        "#2"
      ],
      "metadata": {
        "id": "-83FA6CSU6EG"
      }
    },
    {
      "cell_type": "code",
      "source": [
        "matrix_A = np.array([[4, 2, 3],\n",
        "                     [-1, 1, -3],\n",
        "                     [2, 4, 9]])\n",
        "\n",
        "eigenvalues, eigenvectors = np.linalg.eig(matrix_A)\n",
        "\n",
        "print(\"Eigenvalues of matrix A:\")\n",
        "print(eigenvalues)\n",
        "\n",
        "print(\"Eigenvectors of matrix A:\")\n",
        "print(eigenvectors)"
      ],
      "metadata": {
        "colab": {
          "base_uri": "https://localhost:8080/"
        },
        "id": "duYiPJf0U6ms",
        "outputId": "9bdb9108-d64c-43f1-f322-974560debd77"
      },
      "execution_count": 2,
      "outputs": [
        {
          "output_type": "stream",
          "name": "stdout",
          "text": [
            "Eigenvalues of matrix A:\n",
            "[8. 3. 3.]\n",
            "Eigenvectors of matrix A:\n",
            "[[-0.40824829  0.0153225   0.9635814 ]\n",
            " [ 0.40824829 -0.83430241 -0.14040935]\n",
            " [-0.81649658  0.55109411 -0.22758756]]\n"
          ]
        }
      ]
    },
    {
      "cell_type": "markdown",
      "source": [
        "#3"
      ],
      "metadata": {
        "id": "2kAmpjYuVaCQ"
      }
    },
    {
      "cell_type": "code",
      "source": [
        "# Define matrix B\n",
        "matrix_B = np.array([[2, 2, 0],\n",
        "                     [0, 0, 1],\n",
        "                     [4, 2, 0]])\n",
        "\n",
        "# Compute the inverse\n",
        "inverse_B = np.linalg.inv(matrix_B)\n",
        "\n",
        "inverse_B"
      ],
      "metadata": {
        "colab": {
          "base_uri": "https://localhost:8080/"
        },
        "id": "KMJMe_u4VOwA",
        "outputId": "33462ff4-6740-4fc8-d769-4e27001c2fa3"
      },
      "execution_count": 4,
      "outputs": [
        {
          "output_type": "execute_result",
          "data": {
            "text/plain": [
              "array([[-0.5,  0. ,  0.5],\n",
              "       [ 1. ,  0. , -0.5],\n",
              "       [ 0. ,  1. ,  0. ]])"
            ]
          },
          "metadata": {},
          "execution_count": 4
        }
      ]
    },
    {
      "cell_type": "markdown",
      "source": [
        "#4"
      ],
      "metadata": {
        "id": "WxF6jUEEVqcb"
      }
    },
    {
      "cell_type": "code",
      "source": [
        "# Compute B x B\n",
        "result = np.dot(matrix_B, matrix_B)\n",
        "\n",
        "# Define the identity matrix\n",
        "identity_matrix = np.eye(3)\n",
        "\n",
        "# Check if B x B is equal to the identity matrix\n",
        "is_identity = np.allclose(result, identity_matrix)\n",
        "\n",
        "print(\"B x B is equal to the identity matrix:\", is_identity)"
      ],
      "metadata": {
        "colab": {
          "base_uri": "https://localhost:8080/"
        },
        "id": "nU7cWtgPVmOO",
        "outputId": "2f469fa3-dc8c-4d8b-e829-dba34bf97b95"
      },
      "execution_count": 6,
      "outputs": [
        {
          "output_type": "stream",
          "name": "stdout",
          "text": [
            "B x B is equal to the identity matrix: False\n"
          ]
        }
      ]
    },
    {
      "cell_type": "markdown",
      "source": [
        "#5"
      ],
      "metadata": {
        "id": "3uoj0sczV51M"
      }
    },
    {
      "cell_type": "code",
      "source": [
        "result_matrix = np.dot(matrix_A, matrix_B) + 2 * np.dot(matrix_A, matrix_A) - 3 * matrix_B\n",
        "\n",
        "print(\"Result of matrix multiplication:\")\n",
        "print(result_matrix)"
      ],
      "metadata": {
        "colab": {
          "base_uri": "https://localhost:8080/"
        },
        "id": "xdLgDIwaV6ph",
        "outputId": "4a2b3800-0bc8-4b59-cae4-5b860f589571"
      },
      "execution_count": 14,
      "outputs": [
        {
          "output_type": "stream",
          "name": "stdout",
          "text": [
            "Result of matrix multiplication:\n",
            "[[ 54  52  68]\n",
            " [-36 -34 -68]\n",
            " [ 72 104 154]]\n"
          ]
        }
      ]
    },
    {
      "cell_type": "markdown",
      "source": [
        "#6"
      ],
      "metadata": {
        "id": "TdLtDBX0XDbz"
      }
    },
    {
      "cell_type": "code",
      "source": [
        "matrix_A = np.array([[4, 2, 3],\n",
        "                     [-1, 1, -3],\n",
        "                     [2, 4, 9]])\n",
        "\n",
        "eigenvalues, eigenvectors = np.linalg.eig(matrix_A)\n",
        "\n",
        "matrix_D = np.diag(eigenvalues)\n",
        "\n",
        "Q_inv = np.linalg.inv(eigenvectors)\n",
        "\n",
        "matrix_Q = eigenvectors\n",
        "matrix_Q_inv = Q_inv\n",
        "\n",
        "print(\"Matrix Q:\")\n",
        "print(matrix_Q)\n",
        "\n",
        "print(\"Matrix D:\")\n",
        "print(matrix_D)\n",
        "\n",
        "print(\"Matrix Q_inverse:\")\n",
        "print(matrix_Q_inv)"
      ],
      "metadata": {
        "colab": {
          "base_uri": "https://localhost:8080/"
        },
        "id": "D_TQf3MeWr3V",
        "outputId": "6c0381b7-c056-4bc5-9bb3-f661ab9fd5e8"
      },
      "execution_count": 8,
      "outputs": [
        {
          "output_type": "stream",
          "name": "stdout",
          "text": [
            "Matrix Q:\n",
            "[[-0.40824829  0.0153225   0.9635814 ]\n",
            " [ 0.40824829 -0.83430241 -0.14040935]\n",
            " [-0.81649658  0.55109411 -0.22758756]]\n",
            "Matrix D:\n",
            "[[8. 0. 0.]\n",
            " [0. 3. 0.]\n",
            " [0. 0. 3.]]\n",
            "Matrix Q_inverse:\n",
            "[[-0.48989795 -0.9797959  -1.46969385]\n",
            " [-0.38046442 -1.61250144 -0.61601851]\n",
            " [ 0.83628603 -0.38947664 -0.61288134]]\n"
          ]
        }
      ]
    },
    {
      "cell_type": "markdown",
      "source": [
        "#7"
      ],
      "metadata": {
        "id": "IhoAcEs2XQg3"
      }
    },
    {
      "cell_type": "code",
      "source": [
        "# Coefficients matrix\n",
        "coefficients = np.array([[2, -4, 9],\n",
        "                     [4, -3, 8],\n",
        "                     [-2, 4, -2]])\n",
        "# Constants matrix\n",
        "constants = np.array([-38, -26,17])\n",
        "\n",
        "# Solve the system of equations\n",
        "solution = np.linalg.solve(coefficients, constants)\n",
        "\n",
        "print(\"Solution to the system of equations:\")\n",
        "print(solution)"
      ],
      "metadata": {
        "colab": {
          "base_uri": "https://localhost:8080/"
        },
        "id": "gm65G0B6XQMD",
        "outputId": "3204c00f-3ffc-42a6-9f01-988aa6ff623f"
      },
      "execution_count": 9,
      "outputs": [
        {
          "output_type": "stream",
          "name": "stdout",
          "text": [
            "Solution to the system of equations:\n",
            "[ 2.5  4.  -3. ]\n"
          ]
        }
      ]
    },
    {
      "cell_type": "markdown",
      "source": [
        "#8"
      ],
      "metadata": {
        "id": "IPcXZFwtXxRn"
      }
    },
    {
      "cell_type": "code",
      "source": [
        "# Given matrices C and D\n",
        "matrix_C = np.array([[0, 1],\n",
        "                     [2, 3],\n",
        "                     [4,5]])\n",
        "\n",
        "matrix_D = np.array([[0, 1, 2, 3],\n",
        "                     [4, 5, 6, 7]])\n",
        "\n",
        "# Get the dimensions of matrices C and D\n",
        "dimensions_C = matrix_C.shape\n",
        "dimensions_D = matrix_D.shape\n",
        "\n",
        "# Transpose matrices C and D\n",
        "transpose_C = np.transpose(matrix_C)\n",
        "transpose_D = np.transpose(matrix_D)\n",
        "\n",
        "print(\"Dimensions of matrix C:\", dimensions_C)\n",
        "print(\"Dimensions of matrix D:\", dimensions_D)\n",
        "\n",
        "print(\"Transpose of matrix C:\")\n",
        "print(transpose_C)\n",
        "\n",
        "print(\"Transpose of matrix D:\")\n",
        "print(transpose_D)"
      ],
      "metadata": {
        "colab": {
          "base_uri": "https://localhost:8080/"
        },
        "id": "J0GRM-3AXu11",
        "outputId": "6d2d171b-dad9-4641-c2d3-21b336dd801c"
      },
      "execution_count": 16,
      "outputs": [
        {
          "output_type": "stream",
          "name": "stdout",
          "text": [
            "Dimensions of matrix C: (3, 2)\n",
            "Dimensions of matrix D: (2, 4)\n",
            "Transpose of matrix C:\n",
            "[[0 2 4]\n",
            " [1 3 5]]\n",
            "Transpose of matrix D:\n",
            "[[0 4]\n",
            " [1 5]\n",
            " [2 6]\n",
            " [3 7]]\n"
          ]
        }
      ]
    },
    {
      "cell_type": "markdown",
      "source": [
        "#9"
      ],
      "metadata": {
        "id": "0ONYFvbrYGbm"
      }
    },
    {
      "cell_type": "code",
      "source": [
        "np.allclose(np.transpose(np.dot(matrix_C,matrix_D)),np.dot(np.transpose(matrix_D),np.transpose(matrix_C)))"
      ],
      "metadata": {
        "colab": {
          "base_uri": "https://localhost:8080/"
        },
        "id": "R-psyX03YBeT",
        "outputId": "fa719093-0bf4-4939-d98e-0e3935fdc09a"
      },
      "execution_count": 19,
      "outputs": [
        {
          "output_type": "execute_result",
          "data": {
            "text/plain": [
              "True"
            ]
          },
          "metadata": {},
          "execution_count": 19
        }
      ]
    },
    {
      "cell_type": "markdown",
      "source": [
        "#10"
      ],
      "metadata": {
        "id": "7-3pGrI-aL_6"
      }
    },
    {
      "cell_type": "code",
      "source": [
        "# Given matrix\n",
        "matrix_to_reshape = np.array([[1, 2, 4],\n",
        "                              [3, 4, 6],\n",
        "                              [7, 8, 5],\n",
        "                              [9, 2, 1]])\n",
        "\n",
        "# Reshape the matrix into a 6 x 2 matrix\n",
        "reshaped_matrix = np.reshape(matrix_to_reshape, (6, 2))\n",
        "reshaped_matrix"
      ],
      "metadata": {
        "colab": {
          "base_uri": "https://localhost:8080/"
        },
        "id": "3DuyCjbnYiuj",
        "outputId": "eeab2327-3885-41eb-81ec-01ab72616a0b"
      },
      "execution_count": 22,
      "outputs": [
        {
          "output_type": "execute_result",
          "data": {
            "text/plain": [
              "array([[1, 2],\n",
              "       [4, 3],\n",
              "       [4, 6],\n",
              "       [7, 8],\n",
              "       [5, 9],\n",
              "       [2, 1]])"
            ]
          },
          "metadata": {},
          "execution_count": 22
        }
      ]
    }
  ]
}
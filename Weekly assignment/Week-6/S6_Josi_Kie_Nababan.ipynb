{
 "cells": [
  {
   "cell_type": "code",
   "execution_count": 1,
   "id": "99099751",
   "metadata": {},
   "outputs": [],
   "source": [
    "import numpy as np\n",
    "import pandas as pd"
   ]
  },
  {
   "cell_type": "code",
   "execution_count": 6,
   "id": "5e8fe44b",
   "metadata": {},
   "outputs": [
    {
     "name": "stdout",
     "output_type": "stream",
     "text": [
      "16.999999999999993\n"
     ]
    }
   ],
   "source": [
    "# Compute the determinant of the following matrix.\n",
    "firstMatrix = np.array([[1,3,2], [4,1,3], [2,5,2]])\n",
    "print(np.linalg.det(firstMatrix))"
   ]
  },
  {
   "cell_type": "code",
   "execution_count": 11,
   "id": "ba2edf44",
   "metadata": {},
   "outputs": [
    {
     "name": "stdout",
     "output_type": "stream",
     "text": [
      "Eigenvalues: [8. 3. 3.]\n",
      "Eigenvectors: [[-0.40824829  0.0153225   0.9635814 ]\n",
      " [ 0.40824829 -0.83430241 -0.14040935]\n",
      " [-0.81649658  0.55109411 -0.22758756]]\n"
     ]
    }
   ],
   "source": [
    "# Eigenvalues and Eigenvectors\n",
    "A = np.array([[4,2,3], [-1,1,-3], [2,4,9]])\n",
    "eigenvalues = np.linalg.eig(A)[0]\n",
    "eigenvectors = np.linalg.eig(A)[1]\n",
    "print(\"Eigenvalues: {}\".format(eigenvalues))\n",
    "print(\"Eigenvectors: {}\".format(eigenvectors))"
   ]
  },
  {
   "cell_type": "code",
   "execution_count": 13,
   "id": "1f718819",
   "metadata": {},
   "outputs": [
    {
     "name": "stdout",
     "output_type": "stream",
     "text": [
      "[[-0.5  0.   0.5]\n",
      " [ 1.   0.  -0.5]\n",
      " [ 0.   1.   0. ]]\n"
     ]
    }
   ],
   "source": [
    "# invers of matriks\n",
    "B = np.array([[2,2,0], [0,0,1], [4,2,0]])\n",
    "inversOfB = np.linalg.inv(B)\n",
    "print(\"Invers of B: {}\".format(inversOfB))"
   ]
  },
  {
   "cell_type": "code",
   "execution_count": 16,
   "id": "cbd4d196",
   "metadata": {},
   "outputs": [
    {
     "name": "stdout",
     "output_type": "stream",
     "text": [
      "[[ 4  4  0]\n",
      " [ 0  0  1]\n",
      " [16  4  0]]\n",
      "The result is B X B is not identity matriks\n"
     ]
    }
   ],
   "source": [
    "# Verify B x B = Identity Matriks\n",
    "multiplicateB = np.multiply(B,B)\n",
    "print(multiplicateB)\n",
    "print(\"The result is B X B is not identity matriks\")"
   ]
  },
  {
   "cell_type": "code",
   "execution_count": 27,
   "id": "3860677c",
   "metadata": {},
   "outputs": [
    {
     "name": "stdout",
     "output_type": "stream",
     "text": [
      "The computation result on AB + 2A^2 - 3B is \n",
      "[[ 54  52  68]\n",
      " [-36 -34 -68]\n",
      " [ 72 104 154]]\n"
     ]
    }
   ],
   "source": [
    "# Compute the matrix given by AB + 2A^2 - 3B\n",
    "computeTheMatriks = (np.dot(A,B)) + (2 * np.dot(A,A)) - (np.dot(3,B))\n",
    "print(\"The computation result on AB + 2A^2 - 3B is \\n{}\".format(computeTheMatriks))"
   ]
  },
  {
   "cell_type": "code",
   "execution_count": 30,
   "id": "85fc1960",
   "metadata": {},
   "outputs": [
    {
     "name": "stdout",
     "output_type": "stream",
     "text": [
      "Matriks D: \n",
      "[[8. 0. 0.]\n",
      " [0. 3. 0.]\n",
      " [0. 0. 3.]]\n",
      "Matriks Q: \n",
      "[[-0.40824829  0.0153225   0.9635814 ]\n",
      " [ 0.40824829 -0.83430241 -0.14040935]\n",
      " [-0.81649658  0.55109411 -0.22758756]]\n",
      "Matriks Q_invers: \n",
      "[[-0.48989795 -0.9797959  -1.46969385]\n",
      " [-0.38046442 -1.61250144 -0.61601851]\n",
      " [ 0.83628603 -0.38947664 -0.61288134]]\n"
     ]
    }
   ],
   "source": [
    "# Find matriks Q and D such that A = QDQ^-1\n",
    "D = np.diag(eigenvalues)\n",
    "Q = eigenvectors\n",
    "inversOfQ = np.linalg.inv(Q)\n",
    "print(\"Matriks D: \\n{}\".format(D))\n",
    "print(\"Matriks Q: \\n{}\".format(Q))\n",
    "print(\"Matriks Q_invers: \\n{}\".format(inversOfQ))"
   ]
  },
  {
   "cell_type": "code",
   "execution_count": 34,
   "id": "bca8e0e9",
   "metadata": {},
   "outputs": [
    {
     "name": "stdout",
     "output_type": "stream",
     "text": [
      "Result is: \n",
      "[-2.5  8.  -5. ]\n"
     ]
    }
   ],
   "source": [
    "# Solved system of linear equations\n",
    "one = np.array([[2,4,9], [4,3,8], [2,4,2]])\n",
    "two = np.array([-18, -26, 17])\n",
    "solvedResult = np.linalg.solve(one,two)\n",
    "print(\"Result is: \\n{}\".format(solvedResult))"
   ]
  },
  {
   "cell_type": "code",
   "execution_count": 53,
   "id": "eac47184",
   "metadata": {},
   "outputs": [
    {
     "name": "stdout",
     "output_type": "stream",
     "text": [
      "Dimension of C: (3, 2)\n",
      "Dimension of D: (2, 4)\n",
      "Transpose of C: \n",
      "[[0 2 4]\n",
      " [1 3 5]]\n",
      "Transpose of D: \n",
      "[[0 4]\n",
      " [1 5]\n",
      " [2 6]\n",
      " [3 7]]\n"
     ]
    }
   ],
   "source": [
    "# Find dimensions and transposes of matrices C and D\n",
    "C = np.array([[0,1],[2,3],[4,5]]).reshape(3,2)\n",
    "D = np.array([[0,1,2,3], [4,5,6,7]])\n",
    "dimensionOfC = C.shape\n",
    "dimensionOfD = D.shape\n",
    "transposeOfC = C.T\n",
    "transposeOfD = D.T\n",
    "print(\"Dimension of C: {}\".format(dimensionOfC))\n",
    "print(\"Dimension of D: {}\".format(dimensionOfD))\n",
    "print(\"Transpose of C: \\n{}\".format(transposeOfC))\n",
    "print(\"Transpose of D: \\n{}\".format(transposeOfD))"
   ]
  },
  {
   "cell_type": "code",
   "execution_count": 52,
   "id": "eebd0238",
   "metadata": {},
   "outputs": [
    {
     "name": "stdout",
     "output_type": "stream",
     "text": [
      "True\n"
     ]
    }
   ],
   "source": [
    "# Verify that (CD)^T = D^T x C^T\n",
    "CDT = np.dot(C,D).T\n",
    "DTCT = np.dot(D.T, C.T)\n",
    "print(np.allclose(CDT,DTCT))"
   ]
  },
  {
   "cell_type": "code",
   "execution_count": 55,
   "id": "a648ebb0",
   "metadata": {},
   "outputs": [
    {
     "name": "stdout",
     "output_type": "stream",
     "text": [
      "[[1 2]\n",
      " [4 3]\n",
      " [4 6]\n",
      " [7 8]\n",
      " [5 9]\n",
      " [2 1]]\n"
     ]
    }
   ],
   "source": [
    "# Reshape matriks into 6 x 2 matriks\n",
    "theMatriks = np.array([[1,2,4],[3,4,6],[7,8,5],[9,2,1]])\n",
    "reshapedMatriks = theMatriks.reshape(6,2)\n",
    "print(reshapedMatriks)"
   ]
  },
  {
   "cell_type": "code",
   "execution_count": null,
   "id": "842e8523",
   "metadata": {},
   "outputs": [],
   "source": []
  }
 ],
 "metadata": {
  "kernelspec": {
   "display_name": "Python 3",
   "language": "python",
   "name": "python3"
  },
  "language_info": {
   "codemirror_mode": {
    "name": "ipython",
    "version": 3
   },
   "file_extension": ".py",
   "mimetype": "text/x-python",
   "name": "python",
   "nbconvert_exporter": "python",
   "pygments_lexer": "ipython3",
   "version": "3.8.1"
  }
 },
 "nbformat": 4,
 "nbformat_minor": 5
}

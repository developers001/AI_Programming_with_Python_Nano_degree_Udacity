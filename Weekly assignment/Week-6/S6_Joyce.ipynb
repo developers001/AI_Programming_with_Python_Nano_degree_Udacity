{
 "cells": [
  {
   "cell_type": "code",
   "execution_count": 2,
   "id": "2681c884-64bc-4435-ad84-d7589121cf7d",
   "metadata": {},
   "outputs": [],
   "source": [
    "import numpy as np"
   ]
  },
  {
   "cell_type": "code",
   "execution_count": 3,
   "id": "df65f73a-5f14-43c4-8eb6-9d878bcca08e",
   "metadata": {},
   "outputs": [
    {
     "name": "stdout",
     "output_type": "stream",
     "text": [
      "16.999999999999993\n"
     ]
    }
   ],
   "source": [
    "#Q1\n",
    "matrix = np.array([[1,3,2], [4,1,3],[2,5,2]])\n",
    "determinant = np.linalg.det(matrix)\n",
    "print(determinant)"
   ]
  },
  {
   "cell_type": "code",
   "execution_count": 5,
   "id": "a4619467-15eb-4f29-aee3-ad17e9e8b5f0",
   "metadata": {},
   "outputs": [
    {
     "name": "stdout",
     "output_type": "stream",
     "text": [
      "[8. 3. 3.] [[-0.40824829  0.87287156 -0.22952641]\n",
      " [ 0.40824829  0.21821789  0.84341429]\n",
      " [-0.81649658 -0.43643578 -0.48576739]]\n"
     ]
    }
   ],
   "source": [
    "#Q2\n",
    "matrix_a=np.array([[4,2,3],[-1,1,-3],[2,4,9]])\n",
    "eigenvalues, eigenvectors = np.linalg.eig(matrix_a)\n",
    "print(eigenvalues, eigenvectors)"
   ]
  },
  {
   "cell_type": "code",
   "execution_count": 7,
   "id": "d81e5e40-2847-46f5-8330-c7e8bb2146da",
   "metadata": {},
   "outputs": [
    {
     "name": "stdout",
     "output_type": "stream",
     "text": [
      "[[-0.5  0.   0.5]\n",
      " [ 1.   0.  -0.5]\n",
      " [ 0.   1.   0. ]]\n"
     ]
    }
   ],
   "source": [
    "#Q3\n",
    "matrix_b=np.array([[2,2,0],[0,0,1],[4,2,0]])\n",
    "inverse_b = np.linalg.inv(matrix_b)\n",
    "print(inverse_b)"
   ]
  },
  {
   "cell_type": "code",
   "execution_count": 8,
   "id": "c04fedaf-83b3-4581-b3ce-e881b2d0e118",
   "metadata": {},
   "outputs": [
    {
     "name": "stdout",
     "output_type": "stream",
     "text": [
      "[[1. 0. 0.]\n",
      " [0. 1. 0.]\n",
      " [0. 0. 1.]]\n"
     ]
    }
   ],
   "source": [
    "#Q4\n",
    "print(np.dot(matrix_b,inverse_b))"
   ]
  },
  {
   "cell_type": "code",
   "execution_count": 15,
   "id": "4b1ae351-b2e9-40f4-bdd7-ecc3d3d7b224",
   "metadata": {},
   "outputs": [
    {
     "name": "stdout",
     "output_type": "stream",
     "text": [
      "[[ 54  52  68]\n",
      " [-36 -34 -68]\n",
      " [ 72 104 154]]\n"
     ]
    }
   ],
   "source": [
    "#Q5\n",
    "p1=np.dot(matrix_a,matrix_b)\n",
    "p2=np.dot(matrix_a,matrix_a)*2\n",
    "p3= matrix_b*3\n",
    "print(p1+p2-p3)"
   ]
  },
  {
   "cell_type": "code",
   "execution_count": 17,
   "id": "9cbf889f-0093-45d5-8a31-f8603bf4f932",
   "metadata": {},
   "outputs": [
    {
     "name": "stdout",
     "output_type": "stream",
     "text": [
      "Matrix Q:\n",
      "[[-0.40824829  0.87287156 -0.22952641]\n",
      " [ 0.40824829  0.21821789  0.84341429]\n",
      " [-0.81649658 -0.43643578 -0.48576739]]\n",
      "Matrix D:\n",
      "[[8. 0. 0.]\n",
      " [0. 3. 0.]\n",
      " [0. 0. 3.]]\n"
     ]
    }
   ],
   "source": [
    "#Q6\n",
    "eigenvalues, eigenvectors = np.linalg.eig(matrix_a)\n",
    "D = np.diag(eigenvalues)\n",
    "Q = eigenvectors\n",
    "Q_inv = np.linalg.inv(Q)\n",
    "\n",
    "print(\"Matrix Q:\")\n",
    "print(Q)\n",
    "print(\"Matrix D:\")\n",
    "print(D)"
   ]
  },
  {
   "cell_type": "code",
   "execution_count": 18,
   "id": "933ebeea-edb1-40da-a41e-f8145618341d",
   "metadata": {},
   "outputs": [
    {
     "name": "stdout",
     "output_type": "stream",
     "text": [
      "[ 2.5  4.  -3. ]\n"
     ]
    }
   ],
   "source": [
    "#Q7\n",
    "A = np.array([[2, -4, 9], [4, -3, 8], [-2, 4, -2]])\n",
    "b = np.array([-38, -26, 17])\n",
    "solution = np.linalg.solve(A, b)\n",
    "print(solution)"
   ]
  },
  {
   "cell_type": "code",
   "execution_count": 23,
   "id": "99e96193-f25e-4627-8aa8-03946854674b",
   "metadata": {},
   "outputs": [
    {
     "name": "stdout",
     "output_type": "stream",
     "text": [
      "(3, 2) (2, 4)\n",
      "[[0 2 4]\n",
      " [1 3 5]] [[0 4]\n",
      " [1 5]\n",
      " [2 6]\n",
      " [3 7]]\n"
     ]
    }
   ],
   "source": [
    "#Q8\n",
    "C= np.array([[0,1],[2,3],[4,5]])\n",
    "D= np.array([[0,1, 2, 3],[4, 5, 6, 7]])\n",
    "print(C.shape,D.shape)\n",
    "print(C.T,D.T)"
   ]
  },
  {
   "cell_type": "code",
   "execution_count": 24,
   "id": "0130074d-aa13-46d7-a019-ee2a6e419b24",
   "metadata": {},
   "outputs": [
    {
     "name": "stdout",
     "output_type": "stream",
     "text": [
      "(cd)^T:\n",
      "[[ 4 12 20]\n",
      " [ 5 17 29]\n",
      " [ 6 22 38]\n",
      " [ 7 27 47]]\n",
      "d^T * c^T:\n",
      "[[ 4 12 20]\n",
      " [ 5 17 29]\n",
      " [ 6 22 38]\n",
      " [ 7 27 47]]\n",
      "Are they equal? True\n"
     ]
    }
   ],
   "source": [
    "#Q9\n",
    "#Calculate (cd)^T\n",
    "cd_transpose = np.dot(C, D).T\n",
    "\n",
    "# Calculate d^T * c^T\n",
    "d_transpose = D.T\n",
    "c_transpose = C.T\n",
    "d_c_transpose = np.dot(d_transpose, c_transpose)\n",
    "\n",
    "# Check if (cd)^T = d^T * c^T\n",
    "is_equal = np.array_equal(cd_transpose, d_c_transpose)\n",
    "\n",
    "print(\"(cd)^T:\")\n",
    "print(cd_transpose)\n",
    "print(\"d^T * c^T:\")\n",
    "print(d_c_transpose)\n",
    "print(\"Are they equal?\", is_equal)\n"
   ]
  },
  {
   "cell_type": "code",
   "execution_count": 25,
   "id": "778dda8c-b7ef-4877-b628-cf9110017cc2",
   "metadata": {},
   "outputs": [
    {
     "data": {
      "text/plain": [
       "array([[1, 2],\n",
       "       [4, 3],\n",
       "       [4, 6],\n",
       "       [7, 8],\n",
       "       [5, 9],\n",
       "       [2, 1]])"
      ]
     },
     "execution_count": 25,
     "metadata": {},
     "output_type": "execute_result"
    }
   ],
   "source": [
    "#Q10\n",
    "matrix_x=np.array([[1, 2, 4], [3, 4, 6], [7, 8, 5], [9, 2, 1]])\n",
    "matrix_x.reshape(6,2)"
   ]
  },
  {
   "cell_type": "code",
   "execution_count": null,
   "id": "6ecf35ea-ea30-4955-af6d-bf43056ebb40",
   "metadata": {},
   "outputs": [],
   "source": []
  }
 ],
 "metadata": {
  "kernelspec": {
   "display_name": "Python 3 (ipykernel)",
   "language": "python",
   "name": "python3"
  },
  "language_info": {
   "codemirror_mode": {
    "name": "ipython",
    "version": 3
   },
   "file_extension": ".py",
   "mimetype": "text/x-python",
   "name": "python",
   "nbconvert_exporter": "python",
   "pygments_lexer": "ipython3",
   "version": "3.9.7"
  }
 },
 "nbformat": 4,
 "nbformat_minor": 5
}

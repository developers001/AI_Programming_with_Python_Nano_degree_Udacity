{
  "cells": [
    {
      "cell_type": "code",
      "execution_count": 1,
      "metadata": {
        "trusted": true
      },
      "outputs": [
        {
          "name": "stdout",
          "output_type": "stream",
          "text": [
            "Determinant of the matrix:\n",
            "16.999999999999993\n"
          ]
        }
      ],
      "source": [
        "import numpy as np\n",
        "\n",
        "# Define the matrix as a 2D array\n",
        "matrix = np.array([[1, 3, 2],\n",
        "                   [4, 1, 3],\n",
        "                   [2, 5, 2]])\n",
        "\n",
        "# Compute the determinant of the matrix\n",
        "determinant = np.linalg.det(matrix)\n",
        "\n",
        "print(\"Determinant of the matrix:\")\n",
        "print(determinant)\n"
      ]
    },
    {
      "cell_type": "code",
      "execution_count": 2,
      "metadata": {
        "trusted": true
      },
      "outputs": [
        {
          "name": "stdout",
          "output_type": "stream",
          "text": [
            "Eigenvalues:\n",
            "[8. 3. 3.]\n",
            "\n",
            "Eigenvectors:\n",
            "[[-0.40824829  0.0153225   0.9635814 ]\n",
            " [ 0.40824829 -0.83430241 -0.14040935]\n",
            " [-0.81649658  0.55109411 -0.22758756]]\n"
          ]
        }
      ],
      "source": [
        "import numpy as np\n",
        "\n",
        "# Define the matrix A as a 2D array\n",
        "A = np.array([[4, 2, 3],\n",
        "              [-1, 1, -3],\n",
        "              [2, 4, 9]])\n",
        "\n",
        "# Compute the eigenvalues and eigenvectors\n",
        "eigenvalues, eigenvectors = np.linalg.eig(A)\n",
        "\n",
        "print(\"Eigenvalues:\")\n",
        "print(eigenvalues)\n",
        "print(\"\\nEigenvectors:\")\n",
        "print(eigenvectors)\n"
      ]
    },
    {
      "cell_type": "code",
      "execution_count": 3,
      "metadata": {
        "trusted": true
      },
      "outputs": [
        {
          "name": "stdout",
          "output_type": "stream",
          "text": [
            "Inverse of matrix B:\n",
            "[[-0.5  0.   0.5]\n",
            " [ 1.   0.  -0.5]\n",
            " [ 0.   1.   0. ]]\n"
          ]
        }
      ],
      "source": [
        "import numpy as np\n",
        "\n",
        "# Define the matrix B as a 2D array\n",
        "B = np.array([[2, 2, 0],\n",
        "              [0, 0, 1],\n",
        "              [4, 2, 0]])\n",
        "\n",
        "# Compute the inverse of matrix B\n",
        "inverse_B = np.linalg.inv(B)\n",
        "\n",
        "print(\"Inverse of matrix B:\")\n",
        "print(inverse_B)\n"
      ]
    },
    {
      "cell_type": "code",
      "execution_count": 4,
      "metadata": {
        "trusted": true
      },
      "outputs": [
        {
          "name": "stdout",
          "output_type": "stream",
          "text": [
            "B x B:\n",
            "[[4 4 2]\n",
            " [4 2 0]\n",
            " [8 8 2]]\n",
            "\n",
            "Is B x B equal to I?\n",
            "False\n"
          ]
        }
      ],
      "source": [
        "import numpy as np\n",
        "\n",
        "# Define the matrix B as a 2D array\n",
        "B = np.array([[2, 2, 0],\n",
        "              [0, 0, 1],\n",
        "              [4, 2, 0]])\n",
        "\n",
        "# Compute the product of B with itself\n",
        "B_squared = np.dot(B, B)\n",
        "\n",
        "# Define the identity matrix I as a 2D array\n",
        "I = np.identity(3)\n",
        "\n",
        "# Check if B_squared is equal to the identity matrix I\n",
        "is_equal_to_I = np.array_equal(B_squared, I)\n",
        "\n",
        "print(\"B x B:\")\n",
        "print(B_squared)\n",
        "\n",
        "print(\"\\nIs B x B equal to I?\")\n",
        "print(is_equal_to_I)\n"
      ]
    },
    {
      "cell_type": "code",
      "execution_count": 5,
      "metadata": {
        "trusted": true
      },
      "outputs": [
        {
          "name": "stdout",
          "output_type": "stream",
          "text": [
            "Resulting matrix:\n",
            "[[18 24]\n",
            " [52 70]]\n"
          ]
        }
      ],
      "source": [
        "import numpy as np\n",
        "\n",
        "# Define matrices A and B as 2D arrays\n",
        "A = np.array([[1, 2],\n",
        "              [3, 4]])\n",
        "\n",
        "B = np.array([[5, 6],\n",
        "              [7, 8]])\n",
        "\n",
        "# Compute AB (matrix multiplication)\n",
        "AB = np.dot(A, B)\n",
        "\n",
        "# Compute A^2 (matrix multiplication of A with itself)\n",
        "A_squared = np.dot(A, A)\n",
        "\n",
        "# Compute the final result: AB + 2A^2 - 3B\n",
        "result = AB + 2 * A_squared - 3 * B\n",
        "\n",
        "print(\"Resulting matrix:\")\n",
        "print(result)\n"
      ]
    },
    {
      "cell_type": "code",
      "execution_count": 6,
      "metadata": {
        "trusted": true
      },
      "outputs": [
        {
          "name": "stdout",
          "output_type": "stream",
          "text": [
            "Matrix Q:\n",
            "[[-0.33333333 -0.70710678  0.1490712 ]\n",
            " [ 0.66666667  0.70710678 -0.74535599]\n",
            " [ 0.66666667  0.          0.64988827]]\n",
            "\n",
            "Matrix D:\n",
            "[[7 0 0]\n",
            " [0 4 0]\n",
            " [0 0 3]]\n",
            "\n",
            "Matrix Q^(-1):\n",
            "[[ 1.05818692  1.05818692  0.97090653]\n",
            " [-2.14189252 -0.72767896 -0.34326729]\n",
            " [-1.08550651 -1.08550651  0.54275326]]\n",
            "\n",
            "Matrix A:\n",
            "[[ 3.10363085 -0.89636915 -1.0518154 ]\n",
            " [ 1.30728506  5.30728506  2.34635746]\n",
            " [ 2.82183179  2.82183179  5.58908408]]\n"
          ]
        }
      ],
      "source": [
        "import numpy as np\n",
        "\n",
        "# Given eigenvalues and eigenvectors\n",
        "eigenvalues = np.array([7, 4, 3])\n",
        "eigenvectors = np.array([[-0.33333333, -0.70710678, 0.1490712],\n",
        "                         [0.66666667, 0.70710678, -0.74535599],\n",
        "                         [0.66666667, 0, 0.64988827]])\n",
        "\n",
        "# Form the diagonal matrix D using the eigenvalues\n",
        "D = np.diag(eigenvalues)\n",
        "\n",
        "# Form the matrix Q using the eigenvectors\n",
        "Q = eigenvectors\n",
        "\n",
        "# Compute the inverse of matrix Q\n",
        "Q_inverse = np.linalg.inv(Q)\n",
        "\n",
        "# Compute the final matrix A using A = QDQ^(-1)\n",
        "A = np.dot(np.dot(Q, D), Q_inverse)\n",
        "\n",
        "print(\"Matrix Q:\")\n",
        "print(Q)\n",
        "print(\"\\nMatrix D:\")\n",
        "print(D)\n",
        "print(\"\\nMatrix Q^(-1):\")\n",
        "print(Q_inverse)\n",
        "print(\"\\nMatrix A:\")\n",
        "print(A)\n"
      ]
    },
    {
      "cell_type": "code",
      "execution_count": 10,
      "metadata": {
        "trusted": true
      },
      "outputs": [
        {
          "name": "stdout",
          "output_type": "stream",
          "text": [
            "Solution (x, y, z):\n",
            "[ 2.5  4.  -3. ]\n"
          ]
        }
      ],
      "source": [
        "import numpy as np\n",
        "\n",
        "# Define the coefficient matrix A and the constant vector B\n",
        "A = np.array([[2, -4, 9],\n",
        "              [4, -3, 8],\n",
        "              [-2, 4, -2]])\n",
        "\n",
        "B = np.array([-38, -26, 17])\n",
        "\n",
        "# Solve the system of equations using numpy's linalg.solve() function\n",
        "solution = np.linalg.solve(A, B)\n",
        "\n",
        "print(\"Solution (x, y, z):\")\n",
        "print(solution)\n"
      ]
    },
    {
      "cell_type": "code",
      "execution_count": 11,
      "metadata": {
        "trusted": true
      },
      "outputs": [
        {
          "name": "stdout",
          "output_type": "stream",
          "text": [
            "Dimensions of matrix C: (3, 2)\n",
            "Transpose of matrix C:\n",
            "[[0 2 4]\n",
            " [1 3 5]]\n",
            "\n",
            "Dimensions of matrix D: (2, 4)\n",
            "Transpose of matrix D:\n",
            "[[0 4]\n",
            " [1 5]\n",
            " [2 6]\n",
            " [3 7]]\n"
          ]
        }
      ],
      "source": [
        "import numpy as np\n",
        "\n",
        "# Define matrix C as a 2D array\n",
        "C = np.array([[0, 1],\n",
        "              [2, 3],\n",
        "              [4, 5]])\n",
        "\n",
        "# Define matrix D as a 2D array\n",
        "D = np.array([[0, 1, 2, 3],\n",
        "              [4, 5, 6, 7]])\n",
        "\n",
        "# Get the dimensions of matrix C and D\n",
        "dimensions_C = C.shape\n",
        "dimensions_D = D.shape\n",
        "\n",
        "# Get the transpose of matrix C and D\n",
        "transpose_C = np.transpose(C)\n",
        "transpose_D = np.transpose(D)\n",
        "\n",
        "print(\"Dimensions of matrix C:\", dimensions_C)\n",
        "print(\"Transpose of matrix C:\")\n",
        "print(transpose_C)\n",
        "\n",
        "print(\"\\nDimensions of matrix D:\", dimensions_D)\n",
        "print(\"Transpose of matrix D:\")\n",
        "print(transpose_D)\n"
      ]
    },
    {
      "cell_type": "code",
      "execution_count": 12,
      "metadata": {
        "trusted": true
      },
      "outputs": [
        {
          "name": "stdout",
          "output_type": "stream",
          "text": [
            "Transpose of (CD):\n",
            "[[ 4 12 20]\n",
            " [ 5 17 29]\n",
            " [ 6 22 38]\n",
            " [ 7 27 47]]\n",
            "\n",
            "Product of D^T * C^T:\n",
            "[[ 4 12 20]\n",
            " [ 5 17 29]\n",
            " [ 6 22 38]\n",
            " [ 7 27 47]]\n",
            "\n",
            "Is (CD)^T equal to D^T * C^T?\n",
            "True\n"
          ]
        }
      ],
      "source": [
        "import numpy as np\n",
        "\n",
        "# Define matrix C and D as 2D arrays\n",
        "C = np.array([[0, 1],\n",
        "              [2, 3],\n",
        "              [4, 5]])\n",
        "\n",
        "D = np.array([[0, 1, 2, 3],\n",
        "              [4, 5, 6, 7]])\n",
        "\n",
        "# Compute the product of CD\n",
        "CD = np.dot(C, D)\n",
        "\n",
        "# Compute the transpose of CD\n",
        "transpose_CD = np.transpose(CD)\n",
        "\n",
        "# Compute the transpose of D and C\n",
        "transpose_D = np.transpose(D)\n",
        "transpose_C = np.transpose(C)\n",
        "\n",
        "# Compute the product of D^T and C^T\n",
        "product_DTC = np.dot(transpose_D, transpose_C)\n",
        "\n",
        "# Verify if (CD)^T is equal to D^T * C^T\n",
        "is_equal = np.array_equal(transpose_CD, product_DTC)\n",
        "\n",
        "print(\"Transpose of (CD):\")\n",
        "print(transpose_CD)\n",
        "\n",
        "print(\"\\nProduct of D^T * C^T:\")\n",
        "print(product_DTC)\n",
        "\n",
        "print(\"\\nIs (CD)^T equal to D^T * C^T?\")\n",
        "print(is_equal)\n"
      ]
    },
    {
      "cell_type": "code",
      "execution_count": 15,
      "metadata": {
        "trusted": true
      },
      "outputs": [
        {
          "name": "stdout",
          "output_type": "stream",
          "text": [
            "Original matrix:\n",
            "[[1 2 4]\n",
            " [3 4 6]\n",
            " [7 8 5]\n",
            " [9 2 1]]\n",
            "\n",
            "Reshaped 6x2 matrix:\n",
            "[[1 2]\n",
            " [4 3]\n",
            " [4 6]\n",
            " [7 8]\n",
            " [5 9]\n",
            " [2 1]]\n"
          ]
        }
      ],
      "source": [
        "import numpy as np\n",
        "\n",
        "# Given matrix\n",
        "matrix = np.array([[1, 2, 4],\n",
        "                   [3, 4, 6],\n",
        "                   [7, 8, 5],\n",
        "                   [9, 2, 1]])\n",
        "\n",
        "# Reshape the matrix to a 6x2 matrix\n",
        "reshaped_matrix = matrix.reshape(6, 2)\n",
        "\n",
        "print(\"Original matrix:\")\n",
        "print(matrix)\n",
        "print(\"\\nReshaped 6x2 matrix:\")\n",
        "print(reshaped_matrix)\n"
      ]
    }
  ],
  "metadata": {
    "kernelspec": {
      "display_name": "Python 3",
      "language": "python",
      "name": "python3"
    },
    "language_info": {
      "codemirror_mode": {
        "name": "ipython",
        "version": 3
      },
      "file_extension": ".py",
      "mimetype": "text/x-python",
      "name": "python",
      "nbconvert_exporter": "python",
      "pygments_lexer": "ipython3",
      "version": "3.11.4"
    }
  },
  "nbformat": 4,
  "nbformat_minor": 4
}

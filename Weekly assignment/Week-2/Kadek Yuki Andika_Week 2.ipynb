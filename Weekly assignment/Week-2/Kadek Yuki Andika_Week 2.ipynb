{
  "nbformat": 4,
  "nbformat_minor": 0,
  "metadata": {
    "colab": {
      "provenance": []
    },
    "kernelspec": {
      "name": "python3",
      "display_name": "Python 3"
    },
    "language_info": {
      "name": "python"
    }
  },
  "cells": [
    {
      "cell_type": "markdown",
      "source": [
        "I want a function which takes in 2 inputs and if both are numeric then add, subtract, multiply, percent​\n",
        "if both are non-numeric then just concat and tell that rest of the operations are not applicable​\n",
        "if only one numeric then convert the numeric to text and concat and multiply ​\n",
        "\n",
        "Sample Input 1 : 2,3​\n",
        "\n",
        "print(2+3) \\\n",
        "print(2-3) \\\n",
        "print(3+3) \\\n",
        "print(2/3) \\​\n",
        "Sample Ouput 1 : 5, -1, 6, 66%​\n",
        "\n",
        "Sample Input 2 : Hi, Raju​ \\\n",
        "Sample Ouput 2 : \"Hi Raju\", \"Other operations are not applicable “​"
      ],
      "metadata": {
        "id": "IDTDNmJq7cIE"
      }
    },
    {
      "cell_type": "code",
      "execution_count": null,
      "metadata": {
        "id": "fxaF9pzc7XOQ"
      },
      "outputs": [],
      "source": [
        "def f(a,b):\n",
        "  if isinstance(a, (int, float, complex))==True and isinstance(a, (int, float, complex))==True:\n",
        "    print(a+b)\n",
        "    print(a-b)\n",
        "    print(a*b)\n",
        "    print(\"{:.2f}%\".format(100 * a / b))\n",
        "\n",
        "  else:\n",
        "    print(str(a)+\" \"+str(b)+\" , Other operations are not applicable\")"
      ]
    },
    {
      "cell_type": "code",
      "source": [
        "f(2,3)"
      ],
      "metadata": {
        "colab": {
          "base_uri": "https://localhost:8080/"
        },
        "id": "J2UsCoL7-sgV",
        "outputId": "dc09fb39-a0bc-4e08-bc8e-965edc4d8d58"
      },
      "execution_count": null,
      "outputs": [
        {
          "output_type": "stream",
          "name": "stdout",
          "text": [
            "5\n",
            "-1\n",
            "6\n",
            "66.67%\n"
          ]
        }
      ]
    },
    {
      "cell_type": "code",
      "source": [
        "f(\"Hi\",\"Raju\")"
      ],
      "metadata": {
        "colab": {
          "base_uri": "https://localhost:8080/"
        },
        "id": "ystF5ccGAQXQ",
        "outputId": "5447de86-4d6a-4621-a592-1793d7b8eac2"
      },
      "execution_count": null,
      "outputs": [
        {
          "output_type": "stream",
          "name": "stdout",
          "text": [
            "Hi Raju , Other operations are not applicable\n"
          ]
        }
      ]
    },
    {
      "cell_type": "code",
      "source": [
        "f(\"2\",3)"
      ],
      "metadata": {
        "colab": {
          "base_uri": "https://localhost:8080/"
        },
        "id": "UQot9m7PAdSQ",
        "outputId": "217de643-677e-4887-d531-5ad7660da99c"
      },
      "execution_count": null,
      "outputs": [
        {
          "output_type": "stream",
          "name": "stdout",
          "text": [
            "2 3 , Other operations are not applicable\n"
          ]
        }
      ]
    }
  ]
}
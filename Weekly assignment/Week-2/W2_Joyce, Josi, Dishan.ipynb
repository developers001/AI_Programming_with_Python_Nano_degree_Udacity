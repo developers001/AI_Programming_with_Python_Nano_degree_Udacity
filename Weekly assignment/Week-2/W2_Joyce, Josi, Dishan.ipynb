{
 "cells": [
  {
   "cell_type": "code",
   "execution_count": null,
   "id": "2e391086-55d2-4306-990f-b2f50916b0dd",
   "metadata": {},
   "outputs": [],
   "source": [
    "#Hard Coding\n",
    "first_input=input('Write down the first input here, please: ')\n",
    "second_input=input('Write down the second input here, please: ')\n",
    "\n",
    "try: \n",
    "    if int(first_input) and int(second_input):\n",
    "        print(int(first_input)+int(second_input))\n",
    "        print(int(first_input)-int(second_input))\n",
    "        print(int(first_input)*int(second_input))\n",
    "        print(int(first_input)/int(second_input))\n",
    "\n",
    "\n",
    "except:\n",
    "    try: \n",
    "        if int(first_input):\n",
    "            print(str(first_input)+' '+str(second_input))\n",
    "            print(int(first_input)*str(second_input))\n",
    "    except:\n",
    "        try:\n",
    "            if int(second_input):\n",
    "                print(str(first_input)+' '+str(second_input))\n",
    "                print(int(second_input)*str(first_input))\n",
    "        except:\n",
    "            print(str(first_input)+' '+str(second_input))\n",
    "            print('Other type not applicable')   "
   ]
  },
  {
   "cell_type": "code",
   "execution_count": 12,
   "id": "0e2a4bf5-9d23-4e16-9d90-8b29bc7a2682",
   "metadata": {},
   "outputs": [
    {
     "name": "stdin",
     "output_type": "stream",
     "text": [
      "Write down the first input here, please:  1\n",
      "Write down the second input here, please:  2\n"
     ]
    },
    {
     "name": "stdout",
     "output_type": "stream",
     "text": [
      "3\n",
      "-1\n",
      "2\n",
      "0.5\n"
     ]
    }
   ],
   "source": [
    "#Dynamic Coding\n",
    "#1. input function\n",
    "first_input=input('Write down the first input here, please: ')\n",
    "second_input=input('Write down the second input here, please: ')\n",
    "#2. decide type\n",
    "def decide_type(a,b):\n",
    "    try:\n",
    "        if int(a) and int(b):\n",
    "            return 'int2'\n",
    "    except:\n",
    "        try:\n",
    "            if int(a):\n",
    "                return 'str1'\n",
    "        except:\n",
    "            try:\n",
    "                if int(b):\n",
    "                    return 'str1'\n",
    "            except:\n",
    "                return 'str2'\n",
    "            \n",
    "#3. kinds of output\n",
    "def print_output(tp):\n",
    "    if tp=='str2':\n",
    "        print(str(first_input)+' '+str(second_input))\n",
    "        print('Other type not applicable') \n",
    "    elif tp=='int2':\n",
    "        print(int(first_input)+int(second_input))\n",
    "        print(int(first_input)-int(second_input))\n",
    "        print(int(first_input)*int(second_input))\n",
    "        print(int(first_input)/int(second_input))\n",
    "    elif tp=='str1':\n",
    "        try:\n",
    "            print(str(first_input)+' '+str(second_input))\n",
    "            print(int(first_input)*str(second_input))\n",
    "        except:\n",
    "            print(int(second_input)*str(first_input))\n",
    "\n",
    "print_output(decide_type(first_input,second_input))\n",
    "    "
   ]
  },
  {
   "cell_type": "code",
   "execution_count": null,
   "id": "cebb4a08-3fb2-4b43-a4e7-25a31e9f330e",
   "metadata": {},
   "outputs": [],
   "source": [
    "def bothInteger(first_input, second_input):\n",
    "    print(first_input+second_input)\n",
    "    print(first_input-second_input)\n",
    "    print(first_input*second_input)\n",
    "    print(first_input/second_input)\n",
    "​\n",
    "def firstInputInteger(first_input, second_input):\n",
    "    print(str(first_input) + second_input)\n",
    "    print(first_input*second_input)\n",
    "​\n",
    "def secondInputInteger(first_input, second_input):\n",
    "    print(str(second_input)+first_input)\n",
    "    print(second_input*first_input)\n",
    "​\n",
    "first_input = input(\"Type your first input: \")\n",
    "second_input = input(\"Type your second input: \")\n",
    "​\n",
    "# First try for change both data type to int\n",
    "try:\n",
    "    first_input = int(first_input)\n",
    "    second_input = int(second_input)\n",
    "    bothInteger(first_input, second_input)\n",
    "except:\n",
    "    # Second try for change first_input data type to int\n",
    "    try:\n",
    "        first_input = int(first_input)\n",
    "        firstInputInteger(first_input, second_input)\n",
    "    except:\n",
    "        # Third try for change second data type to int\n",
    "        try:\n",
    "            second_input = int(second_input)\n",
    "            secondInputInteger(first_input, second_input)\n",
    "        except:\n",
    "            print(first_input + \" \" + second_input)\n",
    "            print(\"Other operations are not applicable\")"
   ]
  },
  {
   "cell_type": "code",
   "execution_count": null,
   "id": "c0d2e358-338f-4fdd-a159-75d365c256b2",
   "metadata": {},
   "outputs": [],
   "source": []
  },
  {
   "cell_type": "code",
   "execution_count": null,
   "id": "bdf19bd0-8459-41ae-9764-dfe9a2ad3a98",
   "metadata": {},
   "outputs": [],
   "source": []
  },
  {
   "cell_type": "code",
   "execution_count": null,
   "id": "3d5da15f-4fcb-4902-8386-dac0f16b0f0a",
   "metadata": {},
   "outputs": [],
   "source": []
  },
  {
   "cell_type": "code",
   "execution_count": null,
   "id": "3e4401b2-681d-40f4-98fb-41c5af4ad605",
   "metadata": {},
   "outputs": [],
   "source": []
  },
  {
   "cell_type": "code",
   "execution_count": null,
   "id": "3dc9430e-8caa-4740-92db-7fdf6e838fc8",
   "metadata": {},
   "outputs": [],
   "source": []
  },
  {
   "cell_type": "code",
   "execution_count": null,
   "id": "0cc55034-fd39-4adb-8e27-6dd8c3272c8b",
   "metadata": {},
   "outputs": [],
   "source": []
  },
  {
   "cell_type": "code",
   "execution_count": null,
   "id": "e330bc27-3ebf-4494-a3c2-57b988de262d",
   "metadata": {},
   "outputs": [],
   "source": []
  }
 ],
 "metadata": {
  "kernelspec": {
   "display_name": "Python 3 (ipykernel)",
   "language": "python",
   "name": "python3"
  },
  "language_info": {
   "codemirror_mode": {
    "name": "ipython",
    "version": 3
   },
   "file_extension": ".py",
   "mimetype": "text/x-python",
   "name": "python",
   "nbconvert_exporter": "python",
   "pygments_lexer": "ipython3",
   "version": "3.9.7"
  }
 },
 "nbformat": 4,
 "nbformat_minor": 5
}
